{
  "nbformat": 4,
  "nbformat_minor": 0,
  "metadata": {
    "kernelspec": {
      "display_name": "Python 2",
      "language": "python",
      "name": "python2"
    },
    "language_info": {
      "codemirror_mode": {
        "name": "ipython",
        "version": 2
      },
      "file_extension": ".py",
      "mimetype": "text/x-python",
      "name": "python",
      "nbconvert_exporter": "python",
      "pygments_lexer": "ipython2",
      "version": "2.7.16"
    },
    "colab": {
      "name": "2_Classification_Bayes.ipynb",
      "provenance": [],
      "include_colab_link": true
    }
  },
  "cells": [
    {
      "cell_type": "markdown",
      "metadata": {
        "id": "view-in-github",
        "colab_type": "text"
      },
      "source": [
        "<a href=\"https://colab.research.google.com/github/LauraOwensKY/MachineLearning-WWCodeDataScience/blob/master/2_Classification_Bayes.ipynb\" target=\"_parent\"><img src=\"https://colab.research.google.com/assets/colab-badge.svg\" alt=\"Open In Colab\"/></a>"
      ]
    },
    {
      "cell_type": "markdown",
      "metadata": {
        "id": "vpMH5j7ZH_KO",
        "colab_type": "text"
      },
      "source": [
        "In this notebook we will build a classification model using Naive Bayes classifier from python's scikit learn library"
      ]
    },
    {
      "cell_type": "markdown",
      "metadata": {
        "id": "RjZtD-8kH_KS",
        "colab_type": "text"
      },
      "source": [
        "## Table of contents\n",
        "1. Data Loading\n",
        "2. Data Exploration\n",
        "3. Visualization\n",
        "4. Preprocessing\n",
        "5. Bernoulli Naive Bayes model and its variants\n",
        "6. Gaussian Naive Bayes\n",
        "7. Ensemble of Bernoulli and Gaussian model\n",
        "8. Model comparision using ROC curve"
      ]
    },
    {
      "cell_type": "markdown",
      "metadata": {
        "id": "UMzMZtE6H_KU",
        "colab_type": "text"
      },
      "source": [
        "## Loading Data"
      ]
    },
    {
      "cell_type": "markdown",
      "metadata": {
        "id": "P_3YF0T1H_KY",
        "colab_type": "text"
      },
      "source": [
        "In this section we will import all the necessary packages and load the datasets we plan to work on. We will use the \n",
        "<a href='https://www.kaggle.com/jessemostipak/hotel-booking-demand'> Hotel booking data </a> and build a model to determine which customers will cancel their hotel booking"
      ]
    },
    {
      "cell_type": "code",
      "metadata": {
        "id": "5I5nL-bSH_Kc",
        "colab_type": "code",
        "colab": {}
      },
      "source": [
        "import numpy as np\n",
        "import pandas as pd\n",
        "import seaborn as sns\n",
        "import matplotlib.pyplot as plt\n",
        "from pylab import *\n",
        "from sklearn.naive_bayes import GaussianNB\n",
        "from sklearn.naive_bayes import BernoulliNB \n",
        "from sklearn.model_selection import train_test_split\n",
        "from sklearn import metrics\n",
        "from sklearn.preprocessing import LabelEncoder\n",
        "from sklearn.metrics import recall_score, precision_score, accuracy_score, f1_score\n",
        "from sklearn.metrics import confusion_matrix,auc,roc_auc_score,roc_curve\n",
        "import warnings\n",
        "warnings.filterwarnings('ignore')"
      ],
      "execution_count": 0,
      "outputs": []
    },
    {
      "cell_type": "code",
      "metadata": {
        "id": "ZzanqXGnH_Kw",
        "colab_type": "code",
        "colab": {}
      },
      "source": [
        "# Load the data\n",
        "# file_path = 'C:\\Users\\Tejal\\Documents\\Tejal\\WWC-siliconvalley\\hotel_bookings.csv'\n",
        "file_path = 'https://raw.githubusercontent.com/rfordatascience/tidytuesday/master/data/2020/2020-02-11/hotels.csv'\n",
        "df = pd.read_csv(file_path)"
      ],
      "execution_count": 0,
      "outputs": []
    },
    {
      "cell_type": "markdown",
      "metadata": {
        "id": "_J6WRaIlH_K8",
        "colab_type": "text"
      },
      "source": [
        "## Explore the dataset"
      ]
    },
    {
      "cell_type": "markdown",
      "metadata": {
        "id": "V49qvJQZH_K_",
        "colab_type": "text"
      },
      "source": [
        "Understanding the data, its features and distribution is a major part of builiding ML models. "
      ]
    },
    {
      "cell_type": "code",
      "metadata": {
        "id": "nHZpk5Y1H_LB",
        "colab_type": "code",
        "outputId": "2b8e3710-03ed-45b4-c84f-962d103a029f",
        "colab": {}
      },
      "source": [
        "df.head()"
      ],
      "execution_count": 0,
      "outputs": [
        {
          "output_type": "execute_result",
          "data": {
            "text/html": [
              "<div>\n",
              "<style scoped>\n",
              "    .dataframe tbody tr th:only-of-type {\n",
              "        vertical-align: middle;\n",
              "    }\n",
              "\n",
              "    .dataframe tbody tr th {\n",
              "        vertical-align: top;\n",
              "    }\n",
              "\n",
              "    .dataframe thead th {\n",
              "        text-align: right;\n",
              "    }\n",
              "</style>\n",
              "<table border=\"1\" class=\"dataframe\">\n",
              "  <thead>\n",
              "    <tr style=\"text-align: right;\">\n",
              "      <th></th>\n",
              "      <th>hotel</th>\n",
              "      <th>is_canceled</th>\n",
              "      <th>lead_time</th>\n",
              "      <th>arrival_date_year</th>\n",
              "      <th>arrival_date_month</th>\n",
              "      <th>arrival_date_week_number</th>\n",
              "      <th>arrival_date_day_of_month</th>\n",
              "      <th>stays_in_weekend_nights</th>\n",
              "      <th>stays_in_week_nights</th>\n",
              "      <th>adults</th>\n",
              "      <th>...</th>\n",
              "      <th>deposit_type</th>\n",
              "      <th>agent</th>\n",
              "      <th>company</th>\n",
              "      <th>days_in_waiting_list</th>\n",
              "      <th>customer_type</th>\n",
              "      <th>adr</th>\n",
              "      <th>required_car_parking_spaces</th>\n",
              "      <th>total_of_special_requests</th>\n",
              "      <th>reservation_status</th>\n",
              "      <th>reservation_status_date</th>\n",
              "    </tr>\n",
              "  </thead>\n",
              "  <tbody>\n",
              "    <tr>\n",
              "      <th>0</th>\n",
              "      <td>Resort Hotel</td>\n",
              "      <td>0</td>\n",
              "      <td>342</td>\n",
              "      <td>2015</td>\n",
              "      <td>July</td>\n",
              "      <td>27</td>\n",
              "      <td>1</td>\n",
              "      <td>0</td>\n",
              "      <td>0</td>\n",
              "      <td>2</td>\n",
              "      <td>...</td>\n",
              "      <td>No Deposit</td>\n",
              "      <td>NaN</td>\n",
              "      <td>NaN</td>\n",
              "      <td>0</td>\n",
              "      <td>Transient</td>\n",
              "      <td>0.0</td>\n",
              "      <td>0</td>\n",
              "      <td>0</td>\n",
              "      <td>Check-Out</td>\n",
              "      <td>2015-07-01</td>\n",
              "    </tr>\n",
              "    <tr>\n",
              "      <th>1</th>\n",
              "      <td>Resort Hotel</td>\n",
              "      <td>0</td>\n",
              "      <td>737</td>\n",
              "      <td>2015</td>\n",
              "      <td>July</td>\n",
              "      <td>27</td>\n",
              "      <td>1</td>\n",
              "      <td>0</td>\n",
              "      <td>0</td>\n",
              "      <td>2</td>\n",
              "      <td>...</td>\n",
              "      <td>No Deposit</td>\n",
              "      <td>NaN</td>\n",
              "      <td>NaN</td>\n",
              "      <td>0</td>\n",
              "      <td>Transient</td>\n",
              "      <td>0.0</td>\n",
              "      <td>0</td>\n",
              "      <td>0</td>\n",
              "      <td>Check-Out</td>\n",
              "      <td>2015-07-01</td>\n",
              "    </tr>\n",
              "    <tr>\n",
              "      <th>2</th>\n",
              "      <td>Resort Hotel</td>\n",
              "      <td>0</td>\n",
              "      <td>7</td>\n",
              "      <td>2015</td>\n",
              "      <td>July</td>\n",
              "      <td>27</td>\n",
              "      <td>1</td>\n",
              "      <td>0</td>\n",
              "      <td>1</td>\n",
              "      <td>1</td>\n",
              "      <td>...</td>\n",
              "      <td>No Deposit</td>\n",
              "      <td>NaN</td>\n",
              "      <td>NaN</td>\n",
              "      <td>0</td>\n",
              "      <td>Transient</td>\n",
              "      <td>75.0</td>\n",
              "      <td>0</td>\n",
              "      <td>0</td>\n",
              "      <td>Check-Out</td>\n",
              "      <td>2015-07-02</td>\n",
              "    </tr>\n",
              "    <tr>\n",
              "      <th>3</th>\n",
              "      <td>Resort Hotel</td>\n",
              "      <td>0</td>\n",
              "      <td>13</td>\n",
              "      <td>2015</td>\n",
              "      <td>July</td>\n",
              "      <td>27</td>\n",
              "      <td>1</td>\n",
              "      <td>0</td>\n",
              "      <td>1</td>\n",
              "      <td>1</td>\n",
              "      <td>...</td>\n",
              "      <td>No Deposit</td>\n",
              "      <td>304.0</td>\n",
              "      <td>NaN</td>\n",
              "      <td>0</td>\n",
              "      <td>Transient</td>\n",
              "      <td>75.0</td>\n",
              "      <td>0</td>\n",
              "      <td>0</td>\n",
              "      <td>Check-Out</td>\n",
              "      <td>2015-07-02</td>\n",
              "    </tr>\n",
              "    <tr>\n",
              "      <th>4</th>\n",
              "      <td>Resort Hotel</td>\n",
              "      <td>0</td>\n",
              "      <td>14</td>\n",
              "      <td>2015</td>\n",
              "      <td>July</td>\n",
              "      <td>27</td>\n",
              "      <td>1</td>\n",
              "      <td>0</td>\n",
              "      <td>2</td>\n",
              "      <td>2</td>\n",
              "      <td>...</td>\n",
              "      <td>No Deposit</td>\n",
              "      <td>240.0</td>\n",
              "      <td>NaN</td>\n",
              "      <td>0</td>\n",
              "      <td>Transient</td>\n",
              "      <td>98.0</td>\n",
              "      <td>0</td>\n",
              "      <td>1</td>\n",
              "      <td>Check-Out</td>\n",
              "      <td>2015-07-03</td>\n",
              "    </tr>\n",
              "  </tbody>\n",
              "</table>\n",
              "<p>5 rows × 32 columns</p>\n",
              "</div>"
            ],
            "text/plain": [
              "          hotel  is_canceled  lead_time  arrival_date_year arrival_date_month  \\\n",
              "0  Resort Hotel            0        342               2015               July   \n",
              "1  Resort Hotel            0        737               2015               July   \n",
              "2  Resort Hotel            0          7               2015               July   \n",
              "3  Resort Hotel            0         13               2015               July   \n",
              "4  Resort Hotel            0         14               2015               July   \n",
              "\n",
              "   arrival_date_week_number  arrival_date_day_of_month  \\\n",
              "0                        27                          1   \n",
              "1                        27                          1   \n",
              "2                        27                          1   \n",
              "3                        27                          1   \n",
              "4                        27                          1   \n",
              "\n",
              "   stays_in_weekend_nights  stays_in_week_nights  adults  ...  deposit_type  \\\n",
              "0                        0                     0       2  ...    No Deposit   \n",
              "1                        0                     0       2  ...    No Deposit   \n",
              "2                        0                     1       1  ...    No Deposit   \n",
              "3                        0                     1       1  ...    No Deposit   \n",
              "4                        0                     2       2  ...    No Deposit   \n",
              "\n",
              "   agent company days_in_waiting_list customer_type   adr  \\\n",
              "0    NaN     NaN                    0     Transient   0.0   \n",
              "1    NaN     NaN                    0     Transient   0.0   \n",
              "2    NaN     NaN                    0     Transient  75.0   \n",
              "3  304.0     NaN                    0     Transient  75.0   \n",
              "4  240.0     NaN                    0     Transient  98.0   \n",
              "\n",
              "   required_car_parking_spaces  total_of_special_requests  reservation_status  \\\n",
              "0                            0                          0           Check-Out   \n",
              "1                            0                          0           Check-Out   \n",
              "2                            0                          0           Check-Out   \n",
              "3                            0                          0           Check-Out   \n",
              "4                            0                          1           Check-Out   \n",
              "\n",
              "  reservation_status_date  \n",
              "0              2015-07-01  \n",
              "1              2015-07-01  \n",
              "2              2015-07-02  \n",
              "3              2015-07-02  \n",
              "4              2015-07-03  \n",
              "\n",
              "[5 rows x 32 columns]"
            ]
          },
          "metadata": {
            "tags": []
          },
          "execution_count": 3
        }
      ]
    },
    {
      "cell_type": "code",
      "metadata": {
        "id": "_0fd0TGEH_LK",
        "colab_type": "code",
        "outputId": "9dd4d036-ca61-484a-d1ae-8c643095e6b7",
        "colab": {}
      },
      "source": [
        "# Data has 119390 rows (data points) and 32 columns (features)\n",
        "df.shape   "
      ],
      "execution_count": 0,
      "outputs": [
        {
          "output_type": "execute_result",
          "data": {
            "text/plain": [
              "(119390, 32)"
            ]
          },
          "metadata": {
            "tags": []
          },
          "execution_count": 4
        }
      ]
    },
    {
      "cell_type": "code",
      "metadata": {
        "id": "76c74a_0H_LS",
        "colab_type": "code",
        "outputId": "5c614ebc-1375-4089-af3b-55d26317d62d",
        "colab": {}
      },
      "source": [
        "# Check the datatype of features\n",
        "df.dtypes"
      ],
      "execution_count": 0,
      "outputs": [
        {
          "output_type": "execute_result",
          "data": {
            "text/plain": [
              "hotel                              object\n",
              "is_canceled                         int64\n",
              "lead_time                           int64\n",
              "arrival_date_year                   int64\n",
              "arrival_date_month                 object\n",
              "arrival_date_week_number            int64\n",
              "arrival_date_day_of_month           int64\n",
              "stays_in_weekend_nights             int64\n",
              "stays_in_week_nights                int64\n",
              "adults                              int64\n",
              "children                          float64\n",
              "babies                              int64\n",
              "meal                               object\n",
              "country                            object\n",
              "market_segment                     object\n",
              "distribution_channel               object\n",
              "is_repeated_guest                   int64\n",
              "previous_cancellations              int64\n",
              "previous_bookings_not_canceled      int64\n",
              "reserved_room_type                 object\n",
              "assigned_room_type                 object\n",
              "booking_changes                     int64\n",
              "deposit_type                       object\n",
              "agent                             float64\n",
              "company                           float64\n",
              "days_in_waiting_list                int64\n",
              "customer_type                      object\n",
              "adr                               float64\n",
              "required_car_parking_spaces         int64\n",
              "total_of_special_requests           int64\n",
              "reservation_status                 object\n",
              "reservation_status_date            object\n",
              "dtype: object"
            ]
          },
          "metadata": {
            "tags": []
          },
          "execution_count": 5
        }
      ]
    },
    {
      "cell_type": "code",
      "metadata": {
        "id": "5ZetF57zH_Le",
        "colab_type": "code",
        "outputId": "d5020e52-df53-4669-b8d6-e2ccbf63554b",
        "colab": {}
      },
      "source": [
        "# Feature list \n",
        "df.columns"
      ],
      "execution_count": 0,
      "outputs": [
        {
          "output_type": "execute_result",
          "data": {
            "text/plain": [
              "Index([u'hotel', u'is_canceled', u'lead_time', u'arrival_date_year',\n",
              "       u'arrival_date_month', u'arrival_date_week_number',\n",
              "       u'arrival_date_day_of_month', u'stays_in_weekend_nights',\n",
              "       u'stays_in_week_nights', u'adults', u'children', u'babies', u'meal',\n",
              "       u'country', u'market_segment', u'distribution_channel',\n",
              "       u'is_repeated_guest', u'previous_cancellations',\n",
              "       u'previous_bookings_not_canceled', u'reserved_room_type',\n",
              "       u'assigned_room_type', u'booking_changes', u'deposit_type', u'agent',\n",
              "       u'company', u'days_in_waiting_list', u'customer_type', u'adr',\n",
              "       u'required_car_parking_spaces', u'total_of_special_requests',\n",
              "       u'reservation_status', u'reservation_status_date'],\n",
              "      dtype='object')"
            ]
          },
          "metadata": {
            "tags": []
          },
          "execution_count": 5
        }
      ]
    },
    {
      "cell_type": "code",
      "metadata": {
        "id": "qOIHiKbpH_Lt",
        "colab_type": "code",
        "outputId": "fb4de520-bcb3-4e15-819d-2ef6451a52ab",
        "colab": {}
      },
      "source": [
        "# Check for null values\n",
        "percent_missing = df.isnull().sum() * 100 / len(df)\n",
        "missing_value_df = pd.DataFrame({'column_name': df.columns,\n",
        "                                 'percent_missing': percent_missing})\n",
        "missing_value_df.sort_values('percent_missing', ascending=False,inplace=True)\n",
        "missing_value_df"
      ],
      "execution_count": 0,
      "outputs": [
        {
          "output_type": "execute_result",
          "data": {
            "text/html": [
              "<div>\n",
              "<style scoped>\n",
              "    .dataframe tbody tr th:only-of-type {\n",
              "        vertical-align: middle;\n",
              "    }\n",
              "\n",
              "    .dataframe tbody tr th {\n",
              "        vertical-align: top;\n",
              "    }\n",
              "\n",
              "    .dataframe thead th {\n",
              "        text-align: right;\n",
              "    }\n",
              "</style>\n",
              "<table border=\"1\" class=\"dataframe\">\n",
              "  <thead>\n",
              "    <tr style=\"text-align: right;\">\n",
              "      <th></th>\n",
              "      <th>column_name</th>\n",
              "      <th>percent_missing</th>\n",
              "    </tr>\n",
              "  </thead>\n",
              "  <tbody>\n",
              "    <tr>\n",
              "      <th>company</th>\n",
              "      <td>company</td>\n",
              "      <td>94.306893</td>\n",
              "    </tr>\n",
              "    <tr>\n",
              "      <th>agent</th>\n",
              "      <td>agent</td>\n",
              "      <td>13.686238</td>\n",
              "    </tr>\n",
              "    <tr>\n",
              "      <th>country</th>\n",
              "      <td>country</td>\n",
              "      <td>0.408744</td>\n",
              "    </tr>\n",
              "    <tr>\n",
              "      <th>children</th>\n",
              "      <td>children</td>\n",
              "      <td>0.003350</td>\n",
              "    </tr>\n",
              "    <tr>\n",
              "      <th>reserved_room_type</th>\n",
              "      <td>reserved_room_type</td>\n",
              "      <td>0.000000</td>\n",
              "    </tr>\n",
              "    <tr>\n",
              "      <th>assigned_room_type</th>\n",
              "      <td>assigned_room_type</td>\n",
              "      <td>0.000000</td>\n",
              "    </tr>\n",
              "    <tr>\n",
              "      <th>booking_changes</th>\n",
              "      <td>booking_changes</td>\n",
              "      <td>0.000000</td>\n",
              "    </tr>\n",
              "    <tr>\n",
              "      <th>deposit_type</th>\n",
              "      <td>deposit_type</td>\n",
              "      <td>0.000000</td>\n",
              "    </tr>\n",
              "    <tr>\n",
              "      <th>hotel</th>\n",
              "      <td>hotel</td>\n",
              "      <td>0.000000</td>\n",
              "    </tr>\n",
              "    <tr>\n",
              "      <th>previous_cancellations</th>\n",
              "      <td>previous_cancellations</td>\n",
              "      <td>0.000000</td>\n",
              "    </tr>\n",
              "    <tr>\n",
              "      <th>days_in_waiting_list</th>\n",
              "      <td>days_in_waiting_list</td>\n",
              "      <td>0.000000</td>\n",
              "    </tr>\n",
              "    <tr>\n",
              "      <th>customer_type</th>\n",
              "      <td>customer_type</td>\n",
              "      <td>0.000000</td>\n",
              "    </tr>\n",
              "    <tr>\n",
              "      <th>adr</th>\n",
              "      <td>adr</td>\n",
              "      <td>0.000000</td>\n",
              "    </tr>\n",
              "    <tr>\n",
              "      <th>required_car_parking_spaces</th>\n",
              "      <td>required_car_parking_spaces</td>\n",
              "      <td>0.000000</td>\n",
              "    </tr>\n",
              "    <tr>\n",
              "      <th>total_of_special_requests</th>\n",
              "      <td>total_of_special_requests</td>\n",
              "      <td>0.000000</td>\n",
              "    </tr>\n",
              "    <tr>\n",
              "      <th>reservation_status</th>\n",
              "      <td>reservation_status</td>\n",
              "      <td>0.000000</td>\n",
              "    </tr>\n",
              "    <tr>\n",
              "      <th>previous_bookings_not_canceled</th>\n",
              "      <td>previous_bookings_not_canceled</td>\n",
              "      <td>0.000000</td>\n",
              "    </tr>\n",
              "    <tr>\n",
              "      <th>is_repeated_guest</th>\n",
              "      <td>is_repeated_guest</td>\n",
              "      <td>0.000000</td>\n",
              "    </tr>\n",
              "    <tr>\n",
              "      <th>is_canceled</th>\n",
              "      <td>is_canceled</td>\n",
              "      <td>0.000000</td>\n",
              "    </tr>\n",
              "    <tr>\n",
              "      <th>distribution_channel</th>\n",
              "      <td>distribution_channel</td>\n",
              "      <td>0.000000</td>\n",
              "    </tr>\n",
              "    <tr>\n",
              "      <th>market_segment</th>\n",
              "      <td>market_segment</td>\n",
              "      <td>0.000000</td>\n",
              "    </tr>\n",
              "    <tr>\n",
              "      <th>meal</th>\n",
              "      <td>meal</td>\n",
              "      <td>0.000000</td>\n",
              "    </tr>\n",
              "    <tr>\n",
              "      <th>babies</th>\n",
              "      <td>babies</td>\n",
              "      <td>0.000000</td>\n",
              "    </tr>\n",
              "    <tr>\n",
              "      <th>adults</th>\n",
              "      <td>adults</td>\n",
              "      <td>0.000000</td>\n",
              "    </tr>\n",
              "    <tr>\n",
              "      <th>stays_in_week_nights</th>\n",
              "      <td>stays_in_week_nights</td>\n",
              "      <td>0.000000</td>\n",
              "    </tr>\n",
              "    <tr>\n",
              "      <th>stays_in_weekend_nights</th>\n",
              "      <td>stays_in_weekend_nights</td>\n",
              "      <td>0.000000</td>\n",
              "    </tr>\n",
              "    <tr>\n",
              "      <th>arrival_date_day_of_month</th>\n",
              "      <td>arrival_date_day_of_month</td>\n",
              "      <td>0.000000</td>\n",
              "    </tr>\n",
              "    <tr>\n",
              "      <th>arrival_date_week_number</th>\n",
              "      <td>arrival_date_week_number</td>\n",
              "      <td>0.000000</td>\n",
              "    </tr>\n",
              "    <tr>\n",
              "      <th>arrival_date_month</th>\n",
              "      <td>arrival_date_month</td>\n",
              "      <td>0.000000</td>\n",
              "    </tr>\n",
              "    <tr>\n",
              "      <th>arrival_date_year</th>\n",
              "      <td>arrival_date_year</td>\n",
              "      <td>0.000000</td>\n",
              "    </tr>\n",
              "    <tr>\n",
              "      <th>lead_time</th>\n",
              "      <td>lead_time</td>\n",
              "      <td>0.000000</td>\n",
              "    </tr>\n",
              "    <tr>\n",
              "      <th>reservation_status_date</th>\n",
              "      <td>reservation_status_date</td>\n",
              "      <td>0.000000</td>\n",
              "    </tr>\n",
              "  </tbody>\n",
              "</table>\n",
              "</div>"
            ],
            "text/plain": [
              "                                                   column_name  \\\n",
              "company                                                company   \n",
              "agent                                                    agent   \n",
              "country                                                country   \n",
              "children                                              children   \n",
              "reserved_room_type                          reserved_room_type   \n",
              "assigned_room_type                          assigned_room_type   \n",
              "booking_changes                                booking_changes   \n",
              "deposit_type                                      deposit_type   \n",
              "hotel                                                    hotel   \n",
              "previous_cancellations                  previous_cancellations   \n",
              "days_in_waiting_list                      days_in_waiting_list   \n",
              "customer_type                                    customer_type   \n",
              "adr                                                        adr   \n",
              "required_car_parking_spaces        required_car_parking_spaces   \n",
              "total_of_special_requests            total_of_special_requests   \n",
              "reservation_status                          reservation_status   \n",
              "previous_bookings_not_canceled  previous_bookings_not_canceled   \n",
              "is_repeated_guest                            is_repeated_guest   \n",
              "is_canceled                                        is_canceled   \n",
              "distribution_channel                      distribution_channel   \n",
              "market_segment                                  market_segment   \n",
              "meal                                                      meal   \n",
              "babies                                                  babies   \n",
              "adults                                                  adults   \n",
              "stays_in_week_nights                      stays_in_week_nights   \n",
              "stays_in_weekend_nights                stays_in_weekend_nights   \n",
              "arrival_date_day_of_month            arrival_date_day_of_month   \n",
              "arrival_date_week_number              arrival_date_week_number   \n",
              "arrival_date_month                          arrival_date_month   \n",
              "arrival_date_year                            arrival_date_year   \n",
              "lead_time                                            lead_time   \n",
              "reservation_status_date                reservation_status_date   \n",
              "\n",
              "                                percent_missing  \n",
              "company                               94.306893  \n",
              "agent                                 13.686238  \n",
              "country                                0.408744  \n",
              "children                               0.003350  \n",
              "reserved_room_type                     0.000000  \n",
              "assigned_room_type                     0.000000  \n",
              "booking_changes                        0.000000  \n",
              "deposit_type                           0.000000  \n",
              "hotel                                  0.000000  \n",
              "previous_cancellations                 0.000000  \n",
              "days_in_waiting_list                   0.000000  \n",
              "customer_type                          0.000000  \n",
              "adr                                    0.000000  \n",
              "required_car_parking_spaces            0.000000  \n",
              "total_of_special_requests              0.000000  \n",
              "reservation_status                     0.000000  \n",
              "previous_bookings_not_canceled         0.000000  \n",
              "is_repeated_guest                      0.000000  \n",
              "is_canceled                            0.000000  \n",
              "distribution_channel                   0.000000  \n",
              "market_segment                         0.000000  \n",
              "meal                                   0.000000  \n",
              "babies                                 0.000000  \n",
              "adults                                 0.000000  \n",
              "stays_in_week_nights                   0.000000  \n",
              "stays_in_weekend_nights                0.000000  \n",
              "arrival_date_day_of_month              0.000000  \n",
              "arrival_date_week_number               0.000000  \n",
              "arrival_date_month                     0.000000  \n",
              "arrival_date_year                      0.000000  \n",
              "lead_time                              0.000000  \n",
              "reservation_status_date                0.000000  "
            ]
          },
          "metadata": {
            "tags": []
          },
          "execution_count": 6
        }
      ]
    },
    {
      "cell_type": "markdown",
      "metadata": {
        "id": "kW4zeeBTH_Ly",
        "colab_type": "text"
      },
      "source": [
        "Company, agent, country and children have null values. There are multiple techniques for imputing null value but for simplicity we impute them with 0. As company has a very high null value percentage we will drop the column"
      ]
    },
    {
      "cell_type": "code",
      "metadata": {
        "id": "g1qkpdE0H_L0",
        "colab_type": "code",
        "colab": {}
      },
      "source": [
        "# Let us create a copy of dataframe for backup and impute null with 0\n",
        "backup_df=df.copy\n",
        "df = df.drop('company',axis=1)\n",
        "df=df.fillna(0)"
      ],
      "execution_count": 0,
      "outputs": []
    },
    {
      "cell_type": "code",
      "metadata": {
        "id": "K-LM2_7DH_L8",
        "colab_type": "code",
        "outputId": "9fdbf9bc-40ce-484e-a9f2-5914047ab21e",
        "colab": {}
      },
      "source": [
        "# The df has no Null values\n",
        "(df['agent'].isnull().sum()/len(df)) * 100"
      ],
      "execution_count": 0,
      "outputs": [
        {
          "output_type": "execute_result",
          "data": {
            "text/plain": [
              "0"
            ]
          },
          "metadata": {
            "tags": []
          },
          "execution_count": 28
        }
      ]
    },
    {
      "cell_type": "markdown",
      "metadata": {
        "id": "BxZHQIYyH_MB",
        "colab_type": "text"
      },
      "source": [
        "## Data Visualization"
      ]
    },
    {
      "cell_type": "markdown",
      "metadata": {
        "id": "slH5QkpTH_MB",
        "colab_type": "text"
      },
      "source": [
        "In this task, our target variable is is_cancelled which indicates if the booking was cancelled. 1 --> canceled, 0 --> Not canceled "
      ]
    },
    {
      "cell_type": "code",
      "metadata": {
        "id": "LMUeHGpIH_MC",
        "colab_type": "code",
        "outputId": "ef17ebc6-26a5-4adb-8f5f-cf3955fe61f8",
        "colab": {}
      },
      "source": [
        "df['is_canceled'].value_counts().plot(kind='pie',autopct='%1.1f%%')"
      ],
      "execution_count": 0,
      "outputs": [
        {
          "output_type": "execute_result",
          "data": {
            "text/plain": [
              "<matplotlib.axes._subplots.AxesSubplot at 0x11b11630>"
            ]
          },
          "metadata": {
            "tags": []
          },
          "execution_count": 9
        },
        {
          "output_type": "display_data",
          "data": {
            "image/png": "[encoded data removed]",
            "text/plain": [
              "<Figure size 432x288 with 1 Axes>"
            ]
          },
          "metadata": {
            "tags": []
          }
        }
      ]
    },
    {
      "cell_type": "markdown",
      "metadata": {
        "id": "8_V1jaD0H_MI",
        "colab_type": "text"
      },
      "source": [
        "37% customers have cancelled their bookings. we see that our data in imbalanced"
      ]
    },
    {
      "cell_type": "code",
      "metadata": {
        "id": "2eRnzdVzH_MK",
        "colab_type": "code",
        "outputId": "8bef938f-743b-4432-fd99-66026182b54f",
        "colab": {}
      },
      "source": [
        "df.columns"
      ],
      "execution_count": 0,
      "outputs": [
        {
          "output_type": "execute_result",
          "data": {
            "text/plain": [
              "Index([u'hotel', u'is_canceled', u'lead_time', u'arrival_date_year',\n",
              "       u'arrival_date_month', u'arrival_date_week_number',\n",
              "       u'arrival_date_day_of_month', u'stays_in_weekend_nights',\n",
              "       u'stays_in_week_nights', u'adults', u'children', u'babies', u'meal',\n",
              "       u'country', u'market_segment', u'distribution_channel',\n",
              "       u'is_repeated_guest', u'previous_cancellations',\n",
              "       u'previous_bookings_not_canceled', u'reserved_room_type',\n",
              "       u'assigned_room_type', u'booking_changes', u'deposit_type', u'agent',\n",
              "       u'days_in_waiting_list', u'customer_type', u'adr',\n",
              "       u'required_car_parking_spaces', u'total_of_special_requests',\n",
              "       u'reservation_status', u'reservation_status_date'],\n",
              "      dtype='object')"
            ]
          },
          "metadata": {
            "tags": []
          },
          "execution_count": 11
        }
      ]
    },
    {
      "cell_type": "code",
      "metadata": {
        "id": "JP5yLdkOH_MS",
        "colab_type": "code",
        "outputId": "4a62f5b5-390f-47df-eb1d-915ba3dae1d6",
        "colab": {}
      },
      "source": [
        "# Hotel feature count and distribution across 0 and 1 class \n",
        "df['hotel'].value_counts().plot(kind='pie',autopct='%1.1f%%')"
      ],
      "execution_count": 0,
      "outputs": [
        {
          "output_type": "execute_result",
          "data": {
            "text/plain": [
              "<matplotlib.axes._subplots.AxesSubplot at 0x1165ac18>"
            ]
          },
          "metadata": {
            "tags": []
          },
          "execution_count": 10
        },
        {
          "output_type": "display_data",
          "data": {
            "image/png": "[encoded data removed]",
            "text/plain": [
              "<Figure size 432x288 with 1 Axes>"
            ]
          },
          "metadata": {
            "tags": []
          }
        }
      ]
    },
    {
      "cell_type": "code",
      "metadata": {
        "id": "VCBX98o8H_MW",
        "colab_type": "code",
        "outputId": "d13ca335-e8a5-4ca7-f5e0-ed924a1f38d0",
        "colab": {}
      },
      "source": [
        "sns.countplot(x='is_canceled',hue='hotel',data=df)"
      ],
      "execution_count": 0,
      "outputs": [
        {
          "output_type": "execute_result",
          "data": {
            "text/plain": [
              "<matplotlib.axes._subplots.AxesSubplot at 0xe2e1c18>"
            ]
          },
          "metadata": {
            "tags": []
          },
          "execution_count": 11
        },
        {
          "output_type": "display_data",
          "data": {
            "image/png": "[encoded data removed]",
            "text/plain": [
              "<Figure size 432x288 with 1 Axes>"
            ]
          },
          "metadata": {
            "tags": [],
            "needs_background": "light"
          }
        }
      ]
    },
    {
      "cell_type": "markdown",
      "metadata": {
        "id": "ARy6Ao64H_Me",
        "colab_type": "text"
      },
      "source": [
        "As data has higher city hotel reservation data points compared to resort, above observation is on par with  same trend"
      ]
    },
    {
      "cell_type": "code",
      "metadata": {
        "scrolled": true,
        "id": "5lKGgB_gH_Mf",
        "colab_type": "code",
        "outputId": "25e8399f-ae99-43e4-9310-07698363a2b9",
        "colab": {}
      },
      "source": [
        "#market segments\n",
        "df.groupby(['market_segment'])['is_canceled'].count().plot(kind='bar')"
      ],
      "execution_count": 0,
      "outputs": [
        {
          "output_type": "execute_result",
          "data": {
            "text/plain": [
              "<matplotlib.axes._subplots.AxesSubplot at 0xe606a90>"
            ]
          },
          "metadata": {
            "tags": []
          },
          "execution_count": 12
        },
        {
          "output_type": "display_data",
          "data": {
            "image/png": "[encoded data removed]",
            "text/plain": [
              "<Figure size 432x288 with 1 Axes>"
            ]
          },
          "metadata": {
            "tags": [],
            "needs_background": "light"
          }
        }
      ]
    },
    {
      "cell_type": "markdown",
      "metadata": {
        "id": "GnBFPGLxH_Ml",
        "colab_type": "text"
      },
      "source": [
        "## Feature Engineering"
      ]
    },
    {
      "cell_type": "markdown",
      "metadata": {
        "id": "IYe3dj42H_Ml",
        "colab_type": "text"
      },
      "source": [
        "1. Derive new features using existing features\n",
        "2. Remove irrelevant features\n",
        "3. Transform existing features\n",
        "4. Encoding categorical variables"
      ]
    },
    {
      "cell_type": "code",
      "metadata": {
        "id": "0Ibtj1h8H_Ml",
        "colab_type": "code",
        "colab": {}
      },
      "source": [
        "# Split data into train test set in train:test=70:30 size\n",
        "train, test = train_test_split(df, test_size=0.3, random_state = 42)"
      ],
      "execution_count": 0,
      "outputs": []
    },
    {
      "cell_type": "code",
      "metadata": {
        "id": "FW6KGqRzH_Mr",
        "colab_type": "code",
        "outputId": "5aa0f2b5-a715-47e7-b2bb-0abb056302bd",
        "colab": {}
      },
      "source": [
        "train.shape"
      ],
      "execution_count": 0,
      "outputs": [
        {
          "output_type": "execute_result",
          "data": {
            "text/plain": [
              "(83573, 31)"
            ]
          },
          "metadata": {
            "tags": []
          },
          "execution_count": 30
        }
      ]
    },
    {
      "cell_type": "code",
      "metadata": {
        "id": "gbM-_aZtH_My",
        "colab_type": "code",
        "outputId": "ae069492-5004-4fb5-868a-9955dd3d0955",
        "colab": {}
      },
      "source": [
        "test.shape"
      ],
      "execution_count": 0,
      "outputs": [
        {
          "output_type": "execute_result",
          "data": {
            "text/plain": [
              "(35817, 31)"
            ]
          },
          "metadata": {
            "tags": []
          },
          "execution_count": 15
        }
      ]
    },
    {
      "cell_type": "code",
      "metadata": {
        "id": "h7SSs7WnH_M1",
        "colab_type": "code",
        "colab": {}
      },
      "source": [
        "#Let us add weekend stay and weekday stay days to get total days of stay\n",
        "train['total_days'] = train['stays_in_week_nights'] + train['stays_in_weekend_nights']\n",
        "test['total_days'] = test['stays_in_week_nights'] + test['stays_in_weekend_nights']\n",
        "\n",
        "# drop the weekend stay and weekday stay days features\n",
        "train = train.drop('stays_in_week_nights',axis=1).drop('stays_in_weekend_nights',axis=1)\n",
        "test = test.drop('stays_in_week_nights',axis=1).drop('stays_in_weekend_nights',axis=1)"
      ],
      "execution_count": 0,
      "outputs": []
    },
    {
      "cell_type": "code",
      "metadata": {
        "id": "wAab2gmFH_M5",
        "colab_type": "code",
        "outputId": "d77fef9f-b0fa-437a-ab9f-a5cf704904c5",
        "colab": {}
      },
      "source": [
        "train_0=train[(train['is_canceled']==0)]\n",
        "train_1=train[train['is_canceled']==1]\n",
        "sns.set(rc={\"figure.figsize\": (20, 20)})\n",
        "subplot(2,2,1)\n",
        "ax = sns.distplot(train_0['total_days'], bins=100, color='r')\n",
        "subplot(2,2,2)\n",
        "ax=sns.distplot(train_1['total_days'], bins=100, color='g')"
      ],
      "execution_count": 0,
      "outputs": [
        {
          "output_type": "display_data",
          "data": {
            "image/png": "[encoded data removed]",
            "text/plain": [
              "<Figure size 1440x1440 with 2 Axes>"
            ]
          },
          "metadata": {
            "tags": []
          }
        }
      ]
    },
    {
      "cell_type": "code",
      "metadata": {
        "id": "VOGThCTkH_M9",
        "colab_type": "code",
        "colab": {}
      },
      "source": [
        "#Total customers\n",
        "train['total_customers'] = train['adults'] + train['children']+train['babies']\n",
        "test['total_customers'] = test['adults'] + test['children']+test['babies']\n",
        "\n",
        "train = train.drop('adults',axis=1).drop('children',axis=1).drop('babies',axis=1)\n",
        "test = test.drop('adults',axis=1).drop('children',axis=1).drop('babies',axis=1)"
      ],
      "execution_count": 0,
      "outputs": []
    },
    {
      "cell_type": "code",
      "metadata": {
        "id": "OIPkTQ5HH_NB",
        "colab_type": "code",
        "outputId": "78fbc4bd-af3c-4fcb-f3dc-ac190bf61909",
        "colab": {}
      },
      "source": [
        "train['total_customers'].value_counts().plot('bar',figsize=(5,5)) "
      ],
      "execution_count": 0,
      "outputs": [
        {
          "output_type": "execute_result",
          "data": {
            "text/plain": [
              "<matplotlib.axes._subplots.AxesSubplot at 0x5349dd8>"
            ]
          },
          "metadata": {
            "tags": []
          },
          "execution_count": 19
        },
        {
          "output_type": "display_data",
          "data": {
            "image/png": "[encoded data removed]",
            "text/plain": [
              "<Figure size 360x360 with 1 Axes>"
            ]
          },
          "metadata": {
            "tags": []
          }
        }
      ]
    },
    {
      "cell_type": "code",
      "metadata": {
        "id": "0qj0kSPsH_NG",
        "colab_type": "code",
        "colab": {}
      },
      "source": [
        "train = train.drop(['reservation_status_date'],axis=1)\n",
        "test = test.drop(['reservation_status_date'],axis=1)"
      ],
      "execution_count": 0,
      "outputs": []
    },
    {
      "cell_type": "code",
      "metadata": {
        "id": "ctRokeJMH_NL",
        "colab_type": "code",
        "outputId": "37b32e45-a309-423f-9d50-9701436ae799",
        "colab": {}
      },
      "source": [
        "print (len(train['agent'].unique())) # 314 unique values - Large number of unique agents and it is categorical, difficult to encode\n",
        "train = train.drop('agent',axis=1)\n",
        "test = test.drop('agent',axis=1)"
      ],
      "execution_count": 0,
      "outputs": [
        {
          "output_type": "stream",
          "text": [
            "314\n"
          ],
          "name": "stdout"
        }
      ]
    },
    {
      "cell_type": "code",
      "metadata": {
        "id": "8QQFhx6aH_NQ",
        "colab_type": "code",
        "outputId": "7caea6ab-ac14-4dac-a4a5-28bbff8d20a7",
        "colab": {}
      },
      "source": [
        "print(len(train['country'].unique())) # 170 countries\n",
        "train = train.drop('country',axis=1)\n",
        "test = test.drop('country',axis=1)"
      ],
      "execution_count": 0,
      "outputs": [
        {
          "output_type": "stream",
          "text": [
            "170\n"
          ],
          "name": "stdout"
        }
      ]
    },
    {
      "cell_type": "code",
      "metadata": {
        "id": "rV_fxjM7H_NV",
        "colab_type": "code",
        "outputId": "fb86f3de-4ea1-4111-bb78-b1d60cf954b0",
        "colab": {}
      },
      "source": [
        "train.hist(column='previous_bookings_not_canceled',bins=20,figsize=(10,5))"
      ],
      "execution_count": 0,
      "outputs": [
        {
          "output_type": "execute_result",
          "data": {
            "text/plain": [
              "array([[<matplotlib.axes._subplots.AxesSubplot object at 0x000000001B488B38>]],\n",
              "      dtype=object)"
            ]
          },
          "metadata": {
            "tags": []
          },
          "execution_count": 42
        },
        {
          "output_type": "display_data",
          "data": {
            "image/png": "[encoded data removed]",
            "text/plain": [
              "<Figure size 720x360 with 1 Axes>"
            ]
          },
          "metadata": {
            "tags": []
          }
        }
      ]
    },
    {
      "cell_type": "code",
      "metadata": {
        "id": "8xTOEL5xH_NY",
        "colab_type": "code",
        "colab": {}
      },
      "source": [
        "#train['previous_bookings_not_canceled'].value_counts() # We observe that most data has value = 0; hence we drop the feature\n",
        "#train.groupby(['is_canceled'])['previous_bookings_not_canceled'].value_counts() # We observe that data distribution across both class is remains same\n",
        "train = train.drop('previous_bookings_not_canceled',axis=1)\n",
        "test = test.drop('previous_bookings_not_canceled',axis=1)"
      ],
      "execution_count": 0,
      "outputs": []
    },
    {
      "cell_type": "code",
      "metadata": {
        "id": "Ejy-DITtH_Nc",
        "colab_type": "code",
        "outputId": "9182c387-ff86-44fc-fe0b-eba27411ad55",
        "colab": {}
      },
      "source": [
        "train.groupby(['is_canceled'])['previous_cancellations'].value_counts().plot('bar',figsize=(5,5))\n",
        "# We observe that most data has value = 0; and trend remains same across the 2 classes\n",
        "train = train.drop('previous_cancellations',axis=1)\n",
        "test = test.drop('previous_cancellations',axis=1)"
      ],
      "execution_count": 0,
      "outputs": [
        {
          "output_type": "display_data",
          "data": {
            "image/png": "[encoded data removed]",
            "text/plain": [
              "<Figure size 360x360 with 1 Axes>"
            ]
          },
          "metadata": {
            "tags": []
          }
        }
      ]
    },
    {
      "cell_type": "code",
      "metadata": {
        "id": "TRcw97-IH_Ni",
        "colab_type": "code",
        "outputId": "311910ae-a81e-43d1-d84c-805d0490088c",
        "colab": {}
      },
      "source": [
        "len(train.columns)"
      ],
      "execution_count": 0,
      "outputs": [
        {
          "output_type": "execute_result",
          "data": {
            "text/plain": [
              "23"
            ]
          },
          "metadata": {
            "tags": []
          },
          "execution_count": 45
        }
      ]
    },
    {
      "cell_type": "code",
      "metadata": {
        "id": "fE-RcZy9H_Nm",
        "colab_type": "code",
        "colab": {}
      },
      "source": [
        "backup_train = train.copy()\n",
        "backup_test = test.copy()"
      ],
      "execution_count": 0,
      "outputs": []
    },
    {
      "cell_type": "markdown",
      "metadata": {
        "id": "wATKgjr1H_Nq",
        "colab_type": "text"
      },
      "source": [
        "## Feature Correlation \n",
        "We will convert categorical features to numeric values using Label Encoder"
      ]
    },
    {
      "cell_type": "code",
      "metadata": {
        "id": "U5S87XroH_Nr",
        "colab_type": "code",
        "colab": {}
      },
      "source": [
        "#Custom encoding\n",
        "train['arrival_date_month'] = train['arrival_date_month'].map({'January':1, 'February': 2, 'March':3, \\\n",
        "                                                         'April':4, 'May':5, 'June':6, 'July':7,\\\n",
        "                                                         'August':8, 'September':9, 'October':10, \\\n",
        "                                                         'November':11, 'December':12})\n",
        "test['arrival_date_month'] = test['arrival_date_month'].map({'January':1, 'February': 2, 'March':3, \\\n",
        "                                                         'April':4, 'May':5, 'June':6, 'July':7,\\\n",
        "                                                         'August':8, 'September':9, 'October':10, \\\n",
        "                                                         'November':11, 'December':12})"
      ],
      "execution_count": 0,
      "outputs": []
    },
    {
      "cell_type": "code",
      "metadata": {
        "id": "yG1FuplKH_Nv",
        "colab_type": "code",
        "colab": {}
      },
      "source": [
        "encode = LabelEncoder()"
      ],
      "execution_count": 0,
      "outputs": []
    },
    {
      "cell_type": "code",
      "metadata": {
        "id": "NyMLfaPdH_Ny",
        "colab_type": "code",
        "outputId": "87311abd-39bd-4267-f102-32c05ffae600",
        "colab": {}
      },
      "source": [
        "train.columns"
      ],
      "execution_count": 0,
      "outputs": [
        {
          "output_type": "execute_result",
          "data": {
            "text/plain": [
              "Index([u'hotel', u'is_canceled', u'lead_time', u'arrival_date_year',\n",
              "       u'arrival_date_month', u'arrival_date_week_number',\n",
              "       u'arrival_date_day_of_month', u'meal', u'market_segment',\n",
              "       u'distribution_channel', u'is_repeated_guest', u'reserved_room_type',\n",
              "       u'assigned_room_type', u'booking_changes', u'deposit_type',\n",
              "       u'days_in_waiting_list', u'customer_type', u'adr',\n",
              "       u'required_car_parking_spaces', u'total_of_special_requests',\n",
              "       u'reservation_status', u'total_days', u'total_customers'],\n",
              "      dtype='object')"
            ]
          },
          "metadata": {
            "tags": []
          },
          "execution_count": 50
        }
      ]
    },
    {
      "cell_type": "code",
      "metadata": {
        "id": "2urEwoPcH_N3",
        "colab_type": "code",
        "outputId": "0b50a788-5538-4b86-f338-d11d705108ea",
        "colab": {}
      },
      "source": [
        "train['arrival_date_year'].unique()"
      ],
      "execution_count": 0,
      "outputs": [
        {
          "output_type": "execute_result",
          "data": {
            "text/plain": [
              "array([2016, 2015, 2017], dtype=int64)"
            ]
          },
          "metadata": {
            "tags": []
          },
          "execution_count": 39
        }
      ]
    },
    {
      "cell_type": "code",
      "metadata": {
        "id": "N3DKTFCEH_N7",
        "colab_type": "code",
        "colab": {}
      },
      "source": [
        "cat_col=['hotel','arrival_date_year','meal','market_segment','distribution_channel','reserved_room_type', 'assigned_room_type',\\\n",
        "        'deposit_type','customer_type','reservation_status']\n",
        "for i in cat_col:\n",
        "    train[i] = encode.fit_transform(train[i])"
      ],
      "execution_count": 0,
      "outputs": []
    },
    {
      "cell_type": "code",
      "metadata": {
        "id": "1olKnPpsH_OG",
        "colab_type": "code",
        "outputId": "f99daed5-5971-4499-86e3-85cfc2c6cdb8",
        "colab": {}
      },
      "source": [
        "train[cat_col].head()"
      ],
      "execution_count": 0,
      "outputs": [
        {
          "output_type": "execute_result",
          "data": {
            "text/html": [
              "<div>\n",
              "<style scoped>\n",
              "    .dataframe tbody tr th:only-of-type {\n",
              "        vertical-align: middle;\n",
              "    }\n",
              "\n",
              "    .dataframe tbody tr th {\n",
              "        vertical-align: top;\n",
              "    }\n",
              "\n",
              "    .dataframe thead th {\n",
              "        text-align: right;\n",
              "    }\n",
              "</style>\n",
              "<table border=\"1\" class=\"dataframe\">\n",
              "  <thead>\n",
              "    <tr style=\"text-align: right;\">\n",
              "      <th></th>\n",
              "      <th>hotel</th>\n",
              "      <th>arrival_date_year</th>\n",
              "      <th>meal</th>\n",
              "      <th>market_segment</th>\n",
              "      <th>distribution_channel</th>\n",
              "      <th>reserved_room_type</th>\n",
              "      <th>assigned_room_type</th>\n",
              "      <th>deposit_type</th>\n",
              "      <th>customer_type</th>\n",
              "      <th>reservation_status</th>\n",
              "    </tr>\n",
              "  </thead>\n",
              "  <tbody>\n",
              "    <tr>\n",
              "      <th>0</th>\n",
              "      <td>1</td>\n",
              "      <td>0</td>\n",
              "      <td>0</td>\n",
              "      <td>3</td>\n",
              "      <td>1</td>\n",
              "      <td>2</td>\n",
              "      <td>2</td>\n",
              "      <td>0</td>\n",
              "      <td>2</td>\n",
              "      <td>1</td>\n",
              "    </tr>\n",
              "    <tr>\n",
              "      <th>1</th>\n",
              "      <td>1</td>\n",
              "      <td>0</td>\n",
              "      <td>0</td>\n",
              "      <td>3</td>\n",
              "      <td>1</td>\n",
              "      <td>2</td>\n",
              "      <td>2</td>\n",
              "      <td>0</td>\n",
              "      <td>2</td>\n",
              "      <td>1</td>\n",
              "    </tr>\n",
              "    <tr>\n",
              "      <th>2</th>\n",
              "      <td>1</td>\n",
              "      <td>0</td>\n",
              "      <td>0</td>\n",
              "      <td>3</td>\n",
              "      <td>1</td>\n",
              "      <td>0</td>\n",
              "      <td>2</td>\n",
              "      <td>0</td>\n",
              "      <td>2</td>\n",
              "      <td>1</td>\n",
              "    </tr>\n",
              "    <tr>\n",
              "      <th>3</th>\n",
              "      <td>1</td>\n",
              "      <td>0</td>\n",
              "      <td>0</td>\n",
              "      <td>2</td>\n",
              "      <td>0</td>\n",
              "      <td>0</td>\n",
              "      <td>0</td>\n",
              "      <td>0</td>\n",
              "      <td>2</td>\n",
              "      <td>1</td>\n",
              "    </tr>\n",
              "    <tr>\n",
              "      <th>4</th>\n",
              "      <td>1</td>\n",
              "      <td>0</td>\n",
              "      <td>0</td>\n",
              "      <td>6</td>\n",
              "      <td>3</td>\n",
              "      <td>0</td>\n",
              "      <td>0</td>\n",
              "      <td>0</td>\n",
              "      <td>2</td>\n",
              "      <td>1</td>\n",
              "    </tr>\n",
              "  </tbody>\n",
              "</table>\n",
              "</div>"
            ],
            "text/plain": [
              "   hotel  arrival_date_year  meal  market_segment  distribution_channel  \\\n",
              "0      1                  0     0               3                     1   \n",
              "1      1                  0     0               3                     1   \n",
              "2      1                  0     0               3                     1   \n",
              "3      1                  0     0               2                     0   \n",
              "4      1                  0     0               6                     3   \n",
              "\n",
              "   reserved_room_type  assigned_room_type  deposit_type  customer_type  \\\n",
              "0                   2                   2             0              2   \n",
              "1                   2                   2             0              2   \n",
              "2                   0                   2             0              2   \n",
              "3                   0                   0             0              2   \n",
              "4                   0                   0             0              2   \n",
              "\n",
              "   reservation_status  \n",
              "0                   1  \n",
              "1                   1  \n",
              "2                   1  \n",
              "3                   1  \n",
              "4                   1  "
            ]
          },
          "metadata": {
            "tags": []
          },
          "execution_count": 18
        }
      ]
    },
    {
      "cell_type": "code",
      "metadata": {
        "id": "dkRPwdUyH_OJ",
        "colab_type": "code",
        "outputId": "d1b8a4de-b0f8-40a8-aeb5-342bd1c85a84",
        "colab": {}
      },
      "source": [
        "train['arrival_date_year'].unique()"
      ],
      "execution_count": 0,
      "outputs": [
        {
          "output_type": "execute_result",
          "data": {
            "text/plain": [
              "array([1, 0, 2], dtype=int64)"
            ]
          },
          "metadata": {
            "tags": []
          },
          "execution_count": 41
        }
      ]
    },
    {
      "cell_type": "markdown",
      "metadata": {
        "id": "B54V1oqiH_OM",
        "colab_type": "text"
      },
      "source": [
        "### Feature correlation\n",
        "<b>Spearman</b> and <b>Pearson</b> are the 2 statistical methods to compute the correlation between features. \n",
        "- Pearson is suggested method for features with continuous values and linear relationship\n",
        "- Spearman is suggested method when features have ordinal categorical data or non-linear relationship\n",
        "<br>Pandas correlation method by default uses Pearson method, but we can also change it to spearman </br>"
      ]
    },
    {
      "cell_type": "code",
      "metadata": {
        "id": "jI9C-924H_OM",
        "colab_type": "code",
        "outputId": "fe749bc2-7700-4ced-f803-6bc61c37bc00",
        "colab": {}
      },
      "source": [
        "train.corr()"
      ],
      "execution_count": 0,
      "outputs": [
        {
          "output_type": "execute_result",
          "data": {
            "text/html": [
              "<div>\n",
              "<style scoped>\n",
              "    .dataframe tbody tr th:only-of-type {\n",
              "        vertical-align: middle;\n",
              "    }\n",
              "\n",
              "    .dataframe tbody tr th {\n",
              "        vertical-align: top;\n",
              "    }\n",
              "\n",
              "    .dataframe thead th {\n",
              "        text-align: right;\n",
              "    }\n",
              "</style>\n",
              "<table border=\"1\" class=\"dataframe\">\n",
              "  <thead>\n",
              "    <tr style=\"text-align: right;\">\n",
              "      <th></th>\n",
              "      <th>hotel</th>\n",
              "      <th>is_canceled</th>\n",
              "      <th>lead_time</th>\n",
              "      <th>arrival_date_year</th>\n",
              "      <th>arrival_date_month</th>\n",
              "      <th>arrival_date_week_number</th>\n",
              "      <th>arrival_date_day_of_month</th>\n",
              "      <th>meal</th>\n",
              "      <th>market_segment</th>\n",
              "      <th>distribution_channel</th>\n",
              "      <th>...</th>\n",
              "      <th>deposit_type</th>\n",
              "      <th>company</th>\n",
              "      <th>days_in_waiting_list</th>\n",
              "      <th>customer_type</th>\n",
              "      <th>adr</th>\n",
              "      <th>required_car_parking_spaces</th>\n",
              "      <th>total_of_special_requests</th>\n",
              "      <th>reservation_status</th>\n",
              "      <th>total_days</th>\n",
              "      <th>total_customers</th>\n",
              "    </tr>\n",
              "  </thead>\n",
              "  <tbody>\n",
              "    <tr>\n",
              "      <th>hotel</th>\n",
              "      <td>1.000000</td>\n",
              "      <td>-0.135266</td>\n",
              "      <td>-0.075241</td>\n",
              "      <td>-0.035946</td>\n",
              "      <td>-0.005091</td>\n",
              "      <td>-0.004423</td>\n",
              "      <td>0.002416</td>\n",
              "      <td>-0.009009</td>\n",
              "      <td>-0.084364</td>\n",
              "      <td>-0.174473</td>\n",
              "      <td>...</td>\n",
              "      <td>-0.155026</td>\n",
              "      <td>0.366754</td>\n",
              "      <td>-0.071502</td>\n",
              "      <td>-0.047622</td>\n",
              "      <td>-0.099411</td>\n",
              "      <td>0.216490</td>\n",
              "      <td>0.042221</td>\n",
              "      <td>0.123520</td>\n",
              "      <td>0.242948</td>\n",
              "      <td>0.040654</td>\n",
              "    </tr>\n",
              "    <tr>\n",
              "      <th>is_canceled</th>\n",
              "      <td>-0.135266</td>\n",
              "      <td>1.000000</td>\n",
              "      <td>0.293248</td>\n",
              "      <td>0.017205</td>\n",
              "      <td>0.009405</td>\n",
              "      <td>0.006479</td>\n",
              "      <td>-0.006537</td>\n",
              "      <td>-0.014264</td>\n",
              "      <td>0.057241</td>\n",
              "      <td>0.166512</td>\n",
              "      <td>...</td>\n",
              "      <td>0.467354</td>\n",
              "      <td>-0.021677</td>\n",
              "      <td>0.054322</td>\n",
              "      <td>-0.065687</td>\n",
              "      <td>0.047221</td>\n",
              "      <td>-0.194711</td>\n",
              "      <td>-0.237031</td>\n",
              "      <td>-0.915883</td>\n",
              "      <td>0.021257</td>\n",
              "      <td>0.048297</td>\n",
              "    </tr>\n",
              "    <tr>\n",
              "      <th>lead_time</th>\n",
              "      <td>-0.075241</td>\n",
              "      <td>0.293248</td>\n",
              "      <td>1.000000</td>\n",
              "      <td>0.038852</td>\n",
              "      <td>0.130725</td>\n",
              "      <td>0.126104</td>\n",
              "      <td>0.002054</td>\n",
              "      <td>0.004313</td>\n",
              "      <td>0.013143</td>\n",
              "      <td>0.220976</td>\n",
              "      <td>...</td>\n",
              "      <td>0.375777</td>\n",
              "      <td>0.143806</td>\n",
              "      <td>0.170237</td>\n",
              "      <td>0.075026</td>\n",
              "      <td>-0.061618</td>\n",
              "      <td>-0.116425</td>\n",
              "      <td>-0.095988</td>\n",
              "      <td>-0.302591</td>\n",
              "      <td>0.157373</td>\n",
              "      <td>0.073316</td>\n",
              "    </tr>\n",
              "    <tr>\n",
              "      <th>arrival_date_year</th>\n",
              "      <td>-0.035946</td>\n",
              "      <td>0.017205</td>\n",
              "      <td>0.038852</td>\n",
              "      <td>1.000000</td>\n",
              "      <td>-0.528170</td>\n",
              "      <td>-0.540726</td>\n",
              "      <td>0.004283</td>\n",
              "      <td>0.067755</td>\n",
              "      <td>0.111935</td>\n",
              "      <td>0.025582</td>\n",
              "      <td>...</td>\n",
              "      <td>-0.065299</td>\n",
              "      <td>0.263713</td>\n",
              "      <td>-0.057384</td>\n",
              "      <td>-0.005010</td>\n",
              "      <td>0.193542</td>\n",
              "      <td>-0.017678</td>\n",
              "      <td>0.111282</td>\n",
              "      <td>-0.017228</td>\n",
              "      <td>0.030954</td>\n",
              "      <td>0.050823</td>\n",
              "    </tr>\n",
              "    <tr>\n",
              "      <th>arrival_date_month</th>\n",
              "      <td>-0.005091</td>\n",
              "      <td>0.009405</td>\n",
              "      <td>0.130725</td>\n",
              "      <td>-0.528170</td>\n",
              "      <td>1.000000</td>\n",
              "      <td>0.995092</td>\n",
              "      <td>-0.028815</td>\n",
              "      <td>-0.012907</td>\n",
              "      <td>0.001094</td>\n",
              "      <td>0.007844</td>\n",
              "      <td>...</td>\n",
              "      <td>0.002369</td>\n",
              "      <td>-0.093602</td>\n",
              "      <td>0.020000</td>\n",
              "      <td>-0.030016</td>\n",
              "      <td>0.080533</td>\n",
              "      <td>0.001262</td>\n",
              "      <td>0.028146</td>\n",
              "      <td>-0.020803</td>\n",
              "      <td>0.019015</td>\n",
              "      <td>0.027886</td>\n",
              "    </tr>\n",
              "    <tr>\n",
              "      <th>arrival_date_week_number</th>\n",
              "      <td>-0.004423</td>\n",
              "      <td>0.006479</td>\n",
              "      <td>0.126104</td>\n",
              "      <td>-0.540726</td>\n",
              "      <td>0.995092</td>\n",
              "      <td>1.000000</td>\n",
              "      <td>0.064206</td>\n",
              "      <td>-0.015267</td>\n",
              "      <td>-0.000917</td>\n",
              "      <td>0.005999</td>\n",
              "      <td>...</td>\n",
              "      <td>0.002251</td>\n",
              "      <td>-0.095422</td>\n",
              "      <td>0.023749</td>\n",
              "      <td>-0.028746</td>\n",
              "      <td>0.077035</td>\n",
              "      <td>0.003264</td>\n",
              "      <td>0.026228</td>\n",
              "      <td>-0.016978</td>\n",
              "      <td>0.016210</td>\n",
              "      <td>0.025704</td>\n",
              "    </tr>\n",
              "    <tr>\n",
              "      <th>arrival_date_day_of_month</th>\n",
              "      <td>0.002416</td>\n",
              "      <td>-0.006537</td>\n",
              "      <td>0.002054</td>\n",
              "      <td>0.004283</td>\n",
              "      <td>-0.028815</td>\n",
              "      <td>0.064206</td>\n",
              "      <td>1.000000</td>\n",
              "      <td>-0.007447</td>\n",
              "      <td>-0.004199</td>\n",
              "      <td>0.001474</td>\n",
              "      <td>...</td>\n",
              "      <td>-0.001229</td>\n",
              "      <td>0.042687</td>\n",
              "      <td>0.021440</td>\n",
              "      <td>0.011833</td>\n",
              "      <td>0.028831</td>\n",
              "      <td>0.010960</td>\n",
              "      <td>0.003720</td>\n",
              "      <td>0.012448</td>\n",
              "      <td>-0.027971</td>\n",
              "      <td>0.005154</td>\n",
              "    </tr>\n",
              "    <tr>\n",
              "      <th>meal</th>\n",
              "      <td>-0.009009</td>\n",
              "      <td>-0.014264</td>\n",
              "      <td>0.004313</td>\n",
              "      <td>0.067755</td>\n",
              "      <td>-0.012907</td>\n",
              "      <td>-0.015267</td>\n",
              "      <td>-0.007447</td>\n",
              "      <td>1.000000</td>\n",
              "      <td>0.146540</td>\n",
              "      <td>0.117985</td>\n",
              "      <td>...</td>\n",
              "      <td>-0.090271</td>\n",
              "      <td>0.121543</td>\n",
              "      <td>-0.007020</td>\n",
              "      <td>0.046316</td>\n",
              "      <td>0.056627</td>\n",
              "      <td>-0.039101</td>\n",
              "      <td>0.024430</td>\n",
              "      <td>0.011251</td>\n",
              "      <td>0.044204</td>\n",
              "      <td>-0.007985</td>\n",
              "    </tr>\n",
              "    <tr>\n",
              "      <th>market_segment</th>\n",
              "      <td>-0.084364</td>\n",
              "      <td>0.057241</td>\n",
              "      <td>0.013143</td>\n",
              "      <td>0.111935</td>\n",
              "      <td>0.001094</td>\n",
              "      <td>-0.000917</td>\n",
              "      <td>-0.004199</td>\n",
              "      <td>0.146540</td>\n",
              "      <td>1.000000</td>\n",
              "      <td>0.767718</td>\n",
              "      <td>...</td>\n",
              "      <td>-0.184932</td>\n",
              "      <td>0.295122</td>\n",
              "      <td>-0.043077</td>\n",
              "      <td>-0.166540</td>\n",
              "      <td>0.231270</td>\n",
              "      <td>-0.061893</td>\n",
              "      <td>0.273916</td>\n",
              "      <td>-0.059299</td>\n",
              "      <td>0.126700</td>\n",
              "      <td>0.212570</td>\n",
              "    </tr>\n",
              "    <tr>\n",
              "      <th>distribution_channel</th>\n",
              "      <td>-0.174473</td>\n",
              "      <td>0.166512</td>\n",
              "      <td>0.220976</td>\n",
              "      <td>0.025582</td>\n",
              "      <td>0.007844</td>\n",
              "      <td>0.005999</td>\n",
              "      <td>0.001474</td>\n",
              "      <td>0.117985</td>\n",
              "      <td>0.767718</td>\n",
              "      <td>1.000000</td>\n",
              "      <td>...</td>\n",
              "      <td>0.091225</td>\n",
              "      <td>0.189187</td>\n",
              "      <td>0.048186</td>\n",
              "      <td>-0.068619</td>\n",
              "      <td>0.093562</td>\n",
              "      <td>-0.132287</td>\n",
              "      <td>0.098250</td>\n",
              "      <td>-0.169993</td>\n",
              "      <td>0.100968</td>\n",
              "      <td>0.144696</td>\n",
              "    </tr>\n",
              "    <tr>\n",
              "      <th>is_repeated_guest</th>\n",
              "      <td>0.051430</td>\n",
              "      <td>-0.085456</td>\n",
              "      <td>-0.123915</td>\n",
              "      <td>0.007080</td>\n",
              "      <td>-0.029571</td>\n",
              "      <td>-0.029043</td>\n",
              "      <td>-0.007002</td>\n",
              "      <td>-0.055888</td>\n",
              "      <td>-0.246093</td>\n",
              "      <td>-0.258141</td>\n",
              "      <td>...</td>\n",
              "      <td>-0.057747</td>\n",
              "      <td>-0.245670</td>\n",
              "      <td>-0.022523</td>\n",
              "      <td>-0.017827</td>\n",
              "      <td>-0.135030</td>\n",
              "      <td>0.075030</td>\n",
              "      <td>0.011924</td>\n",
              "      <td>0.084120</td>\n",
              "      <td>-0.105552</td>\n",
              "      <td>-0.136843</td>\n",
              "    </tr>\n",
              "    <tr>\n",
              "      <th>reserved_room_type</th>\n",
              "      <td>0.246741</td>\n",
              "      <td>-0.059555</td>\n",
              "      <td>-0.107382</td>\n",
              "      <td>0.091785</td>\n",
              "      <td>-0.010345</td>\n",
              "      <td>-0.010504</td>\n",
              "      <td>0.016134</td>\n",
              "      <td>-0.121964</td>\n",
              "      <td>0.093214</td>\n",
              "      <td>-0.042541</td>\n",
              "      <td>...</td>\n",
              "      <td>-0.198719</td>\n",
              "      <td>0.027825</td>\n",
              "      <td>-0.068090</td>\n",
              "      <td>-0.122740</td>\n",
              "      <td>0.382079</td>\n",
              "      <td>0.130537</td>\n",
              "      <td>0.138199</td>\n",
              "      <td>0.056839</td>\n",
              "      <td>0.177722</td>\n",
              "      <td>0.384172</td>\n",
              "    </tr>\n",
              "    <tr>\n",
              "      <th>assigned_room_type</th>\n",
              "      <td>0.305863</td>\n",
              "      <td>-0.173898</td>\n",
              "      <td>-0.173158</td>\n",
              "      <td>0.035793</td>\n",
              "      <td>-0.008577</td>\n",
              "      <td>-0.007890</td>\n",
              "      <td>0.012058</td>\n",
              "      <td>-0.121648</td>\n",
              "      <td>0.024110</td>\n",
              "      <td>-0.105705</td>\n",
              "      <td>...</td>\n",
              "      <td>-0.240921</td>\n",
              "      <td>0.106488</td>\n",
              "      <td>-0.068599</td>\n",
              "      <td>-0.086073</td>\n",
              "      <td>0.249941</td>\n",
              "      <td>0.158195</td>\n",
              "      <td>0.125054</td>\n",
              "      <td>0.171143</td>\n",
              "      <td>0.106623</td>\n",
              "      <td>0.301214</td>\n",
              "    </tr>\n",
              "    <tr>\n",
              "      <th>booking_changes</th>\n",
              "      <td>0.070201</td>\n",
              "      <td>-0.140347</td>\n",
              "      <td>0.004114</td>\n",
              "      <td>0.030485</td>\n",
              "      <td>0.003804</td>\n",
              "      <td>0.004611</td>\n",
              "      <td>0.012223</td>\n",
              "      <td>0.019315</td>\n",
              "      <td>-0.072903</td>\n",
              "      <td>-0.114324</td>\n",
              "      <td>...</td>\n",
              "      <td>-0.110863</td>\n",
              "      <td>0.120954</td>\n",
              "      <td>-0.013262</td>\n",
              "      <td>0.092221</td>\n",
              "      <td>0.018406</td>\n",
              "      <td>0.062419</td>\n",
              "      <td>0.053413</td>\n",
              "      <td>0.137648</td>\n",
              "      <td>0.100446</td>\n",
              "      <td>-0.006798</td>\n",
              "    </tr>\n",
              "    <tr>\n",
              "      <th>deposit_type</th>\n",
              "      <td>-0.155026</td>\n",
              "      <td>0.467354</td>\n",
              "      <td>0.375777</td>\n",
              "      <td>-0.065299</td>\n",
              "      <td>0.002369</td>\n",
              "      <td>0.002251</td>\n",
              "      <td>-0.001229</td>\n",
              "      <td>-0.090271</td>\n",
              "      <td>-0.184932</td>\n",
              "      <td>0.091225</td>\n",
              "      <td>...</td>\n",
              "      <td>1.000000</td>\n",
              "      <td>0.007777</td>\n",
              "      <td>0.121999</td>\n",
              "      <td>-0.072593</td>\n",
              "      <td>-0.086046</td>\n",
              "      <td>-0.089800</td>\n",
              "      <td>-0.266183</td>\n",
              "      <td>-0.464571</td>\n",
              "      <td>-0.100240</td>\n",
              "      <td>-0.078230</td>\n",
              "    </tr>\n",
              "    <tr>\n",
              "      <th>company</th>\n",
              "      <td>0.366754</td>\n",
              "      <td>-0.021677</td>\n",
              "      <td>0.143806</td>\n",
              "      <td>0.263713</td>\n",
              "      <td>-0.093602</td>\n",
              "      <td>-0.095422</td>\n",
              "      <td>0.042687</td>\n",
              "      <td>0.121543</td>\n",
              "      <td>0.295122</td>\n",
              "      <td>0.189187</td>\n",
              "      <td>...</td>\n",
              "      <td>0.007777</td>\n",
              "      <td>1.000000</td>\n",
              "      <td>-0.006732</td>\n",
              "      <td>0.271949</td>\n",
              "      <td>0.091613</td>\n",
              "      <td>0.000980</td>\n",
              "      <td>-0.095001</td>\n",
              "      <td>0.009814</td>\n",
              "      <td>0.156135</td>\n",
              "      <td>0.198484</td>\n",
              "    </tr>\n",
              "    <tr>\n",
              "      <th>days_in_waiting_list</th>\n",
              "      <td>-0.071502</td>\n",
              "      <td>0.054322</td>\n",
              "      <td>0.170237</td>\n",
              "      <td>-0.057384</td>\n",
              "      <td>0.020000</td>\n",
              "      <td>0.023749</td>\n",
              "      <td>0.021440</td>\n",
              "      <td>-0.007020</td>\n",
              "      <td>-0.043077</td>\n",
              "      <td>0.048186</td>\n",
              "      <td>...</td>\n",
              "      <td>0.121999</td>\n",
              "      <td>-0.006732</td>\n",
              "      <td>1.000000</td>\n",
              "      <td>0.098976</td>\n",
              "      <td>-0.039634</td>\n",
              "      <td>-0.029488</td>\n",
              "      <td>-0.082515</td>\n",
              "      <td>-0.058119</td>\n",
              "      <td>-0.021316</td>\n",
              "      <td>-0.026104</td>\n",
              "    </tr>\n",
              "    <tr>\n",
              "      <th>customer_type</th>\n",
              "      <td>-0.047622</td>\n",
              "      <td>-0.065687</td>\n",
              "      <td>0.075026</td>\n",
              "      <td>-0.005010</td>\n",
              "      <td>-0.030016</td>\n",
              "      <td>-0.028746</td>\n",
              "      <td>0.011833</td>\n",
              "      <td>0.046316</td>\n",
              "      <td>-0.166540</td>\n",
              "      <td>-0.068619</td>\n",
              "      <td>...</td>\n",
              "      <td>-0.072593</td>\n",
              "      <td>0.271949</td>\n",
              "      <td>0.098976</td>\n",
              "      <td>1.000000</td>\n",
              "      <td>-0.076453</td>\n",
              "      <td>-0.029671</td>\n",
              "      <td>-0.135601</td>\n",
              "      <td>0.063423</td>\n",
              "      <td>-0.136887</td>\n",
              "      <td>-0.114597</td>\n",
              "    </tr>\n",
              "    <tr>\n",
              "      <th>adr</th>\n",
              "      <td>-0.099411</td>\n",
              "      <td>0.047221</td>\n",
              "      <td>-0.061618</td>\n",
              "      <td>0.193542</td>\n",
              "      <td>0.080533</td>\n",
              "      <td>0.077035</td>\n",
              "      <td>0.028831</td>\n",
              "      <td>0.056627</td>\n",
              "      <td>0.231270</td>\n",
              "      <td>0.093562</td>\n",
              "      <td>...</td>\n",
              "      <td>-0.086046</td>\n",
              "      <td>0.091613</td>\n",
              "      <td>-0.039634</td>\n",
              "      <td>-0.076453</td>\n",
              "      <td>1.000000</td>\n",
              "      <td>0.051538</td>\n",
              "      <td>0.166498</td>\n",
              "      <td>-0.050022</td>\n",
              "      <td>0.061648</td>\n",
              "      <td>0.358331</td>\n",
              "    </tr>\n",
              "    <tr>\n",
              "      <th>required_car_parking_spaces</th>\n",
              "      <td>0.216490</td>\n",
              "      <td>-0.194711</td>\n",
              "      <td>-0.116425</td>\n",
              "      <td>-0.017678</td>\n",
              "      <td>0.001262</td>\n",
              "      <td>0.003264</td>\n",
              "      <td>0.010960</td>\n",
              "      <td>-0.039101</td>\n",
              "      <td>-0.061893</td>\n",
              "      <td>-0.132287</td>\n",
              "      <td>...</td>\n",
              "      <td>-0.089800</td>\n",
              "      <td>0.000980</td>\n",
              "      <td>-0.029488</td>\n",
              "      <td>-0.029671</td>\n",
              "      <td>0.051538</td>\n",
              "      <td>1.000000</td>\n",
              "      <td>0.078700</td>\n",
              "      <td>0.178333</td>\n",
              "      <td>-0.025773</td>\n",
              "      <td>0.046675</td>\n",
              "    </tr>\n",
              "    <tr>\n",
              "      <th>total_of_special_requests</th>\n",
              "      <td>0.042221</td>\n",
              "      <td>-0.237031</td>\n",
              "      <td>-0.095988</td>\n",
              "      <td>0.111282</td>\n",
              "      <td>0.028146</td>\n",
              "      <td>0.026228</td>\n",
              "      <td>0.003720</td>\n",
              "      <td>0.024430</td>\n",
              "      <td>0.273916</td>\n",
              "      <td>0.098250</td>\n",
              "      <td>...</td>\n",
              "      <td>-0.266183</td>\n",
              "      <td>-0.095001</td>\n",
              "      <td>-0.082515</td>\n",
              "      <td>-0.135601</td>\n",
              "      <td>0.166498</td>\n",
              "      <td>0.078700</td>\n",
              "      <td>1.000000</td>\n",
              "      <td>0.226460</td>\n",
              "      <td>0.075344</td>\n",
              "      <td>0.156138</td>\n",
              "    </tr>\n",
              "    <tr>\n",
              "      <th>reservation_status</th>\n",
              "      <td>0.123520</td>\n",
              "      <td>-0.915883</td>\n",
              "      <td>-0.302591</td>\n",
              "      <td>-0.017228</td>\n",
              "      <td>-0.020803</td>\n",
              "      <td>-0.016978</td>\n",
              "      <td>0.012448</td>\n",
              "      <td>0.011251</td>\n",
              "      <td>-0.059299</td>\n",
              "      <td>-0.169993</td>\n",
              "      <td>...</td>\n",
              "      <td>-0.464571</td>\n",
              "      <td>0.009814</td>\n",
              "      <td>-0.058119</td>\n",
              "      <td>0.063423</td>\n",
              "      <td>-0.050022</td>\n",
              "      <td>0.178333</td>\n",
              "      <td>0.226460</td>\n",
              "      <td>1.000000</td>\n",
              "      <td>-0.014246</td>\n",
              "      <td>-0.057618</td>\n",
              "    </tr>\n",
              "    <tr>\n",
              "      <th>total_days</th>\n",
              "      <td>0.242948</td>\n",
              "      <td>0.021257</td>\n",
              "      <td>0.157373</td>\n",
              "      <td>0.030954</td>\n",
              "      <td>0.019015</td>\n",
              "      <td>0.016210</td>\n",
              "      <td>-0.027971</td>\n",
              "      <td>0.044204</td>\n",
              "      <td>0.126700</td>\n",
              "      <td>0.100968</td>\n",
              "      <td>...</td>\n",
              "      <td>-0.100240</td>\n",
              "      <td>0.156135</td>\n",
              "      <td>-0.021316</td>\n",
              "      <td>-0.136887</td>\n",
              "      <td>0.061648</td>\n",
              "      <td>-0.025773</td>\n",
              "      <td>0.075344</td>\n",
              "      <td>-0.014246</td>\n",
              "      <td>1.000000</td>\n",
              "      <td>0.112030</td>\n",
              "    </tr>\n",
              "    <tr>\n",
              "      <th>total_customers</th>\n",
              "      <td>0.040654</td>\n",
              "      <td>0.048297</td>\n",
              "      <td>0.073316</td>\n",
              "      <td>0.050823</td>\n",
              "      <td>0.027886</td>\n",
              "      <td>0.025704</td>\n",
              "      <td>0.005154</td>\n",
              "      <td>-0.007985</td>\n",
              "      <td>0.212570</td>\n",
              "      <td>0.144696</td>\n",
              "      <td>...</td>\n",
              "      <td>-0.078230</td>\n",
              "      <td>0.198484</td>\n",
              "      <td>-0.026104</td>\n",
              "      <td>-0.114597</td>\n",
              "      <td>0.358331</td>\n",
              "      <td>0.046675</td>\n",
              "      <td>0.156138</td>\n",
              "      <td>-0.057618</td>\n",
              "      <td>0.112030</td>\n",
              "      <td>1.000000</td>\n",
              "    </tr>\n",
              "  </tbody>\n",
              "</table>\n",
              "<p>24 rows × 24 columns</p>\n",
              "</div>"
            ],
            "text/plain": [
              "                                hotel  is_canceled  lead_time  \\\n",
              "hotel                        1.000000    -0.135266  -0.075241   \n",
              "is_canceled                 -0.135266     1.000000   0.293248   \n",
              "lead_time                   -0.075241     0.293248   1.000000   \n",
              "arrival_date_year           -0.035946     0.017205   0.038852   \n",
              "arrival_date_month          -0.005091     0.009405   0.130725   \n",
              "arrival_date_week_number    -0.004423     0.006479   0.126104   \n",
              "arrival_date_day_of_month    0.002416    -0.006537   0.002054   \n",
              "meal                        -0.009009    -0.014264   0.004313   \n",
              "market_segment              -0.084364     0.057241   0.013143   \n",
              "distribution_channel        -0.174473     0.166512   0.220976   \n",
              "is_repeated_guest            0.051430    -0.085456  -0.123915   \n",
              "reserved_room_type           0.246741    -0.059555  -0.107382   \n",
              "assigned_room_type           0.305863    -0.173898  -0.173158   \n",
              "booking_changes              0.070201    -0.140347   0.004114   \n",
              "deposit_type                -0.155026     0.467354   0.375777   \n",
              "company                      0.366754    -0.021677   0.143806   \n",
              "days_in_waiting_list        -0.071502     0.054322   0.170237   \n",
              "customer_type               -0.047622    -0.065687   0.075026   \n",
              "adr                         -0.099411     0.047221  -0.061618   \n",
              "required_car_parking_spaces  0.216490    -0.194711  -0.116425   \n",
              "total_of_special_requests    0.042221    -0.237031  -0.095988   \n",
              "reservation_status           0.123520    -0.915883  -0.302591   \n",
              "total_days                   0.242948     0.021257   0.157373   \n",
              "total_customers              0.040654     0.048297   0.073316   \n",
              "\n",
              "                             arrival_date_year  arrival_date_month  \\\n",
              "hotel                                -0.035946           -0.005091   \n",
              "is_canceled                           0.017205            0.009405   \n",
              "lead_time                             0.038852            0.130725   \n",
              "arrival_date_year                     1.000000           -0.528170   \n",
              "arrival_date_month                   -0.528170            1.000000   \n",
              "arrival_date_week_number             -0.540726            0.995092   \n",
              "arrival_date_day_of_month             0.004283           -0.028815   \n",
              "meal                                  0.067755           -0.012907   \n",
              "market_segment                        0.111935            0.001094   \n",
              "distribution_channel                  0.025582            0.007844   \n",
              "is_repeated_guest                     0.007080           -0.029571   \n",
              "reserved_room_type                    0.091785           -0.010345   \n",
              "assigned_room_type                    0.035793           -0.008577   \n",
              "booking_changes                       0.030485            0.003804   \n",
              "deposit_type                         -0.065299            0.002369   \n",
              "company                               0.263713           -0.093602   \n",
              "days_in_waiting_list                 -0.057384            0.020000   \n",
              "customer_type                        -0.005010           -0.030016   \n",
              "adr                                   0.193542            0.080533   \n",
              "required_car_parking_spaces          -0.017678            0.001262   \n",
              "total_of_special_requests             0.111282            0.028146   \n",
              "reservation_status                   -0.017228           -0.020803   \n",
              "total_days                            0.030954            0.019015   \n",
              "total_customers                       0.050823            0.027886   \n",
              "\n",
              "                             arrival_date_week_number  \\\n",
              "hotel                                       -0.004423   \n",
              "is_canceled                                  0.006479   \n",
              "lead_time                                    0.126104   \n",
              "arrival_date_year                           -0.540726   \n",
              "arrival_date_month                           0.995092   \n",
              "arrival_date_week_number                     1.000000   \n",
              "arrival_date_day_of_month                    0.064206   \n",
              "meal                                        -0.015267   \n",
              "market_segment                              -0.000917   \n",
              "distribution_channel                         0.005999   \n",
              "is_repeated_guest                           -0.029043   \n",
              "reserved_room_type                          -0.010504   \n",
              "assigned_room_type                          -0.007890   \n",
              "booking_changes                              0.004611   \n",
              "deposit_type                                 0.002251   \n",
              "company                                     -0.095422   \n",
              "days_in_waiting_list                         0.023749   \n",
              "customer_type                               -0.028746   \n",
              "adr                                          0.077035   \n",
              "required_car_parking_spaces                  0.003264   \n",
              "total_of_special_requests                    0.026228   \n",
              "reservation_status                          -0.016978   \n",
              "total_days                                   0.016210   \n",
              "total_customers                              0.025704   \n",
              "\n",
              "                             arrival_date_day_of_month      meal  \\\n",
              "hotel                                         0.002416 -0.009009   \n",
              "is_canceled                                  -0.006537 -0.014264   \n",
              "lead_time                                     0.002054  0.004313   \n",
              "arrival_date_year                             0.004283  0.067755   \n",
              "arrival_date_month                           -0.028815 -0.012907   \n",
              "arrival_date_week_number                      0.064206 -0.015267   \n",
              "arrival_date_day_of_month                     1.000000 -0.007447   \n",
              "meal                                         -0.007447  1.000000   \n",
              "market_segment                               -0.004199  0.146540   \n",
              "distribution_channel                          0.001474  0.117985   \n",
              "is_repeated_guest                            -0.007002 -0.055888   \n",
              "reserved_room_type                            0.016134 -0.121964   \n",
              "assigned_room_type                            0.012058 -0.121648   \n",
              "booking_changes                               0.012223  0.019315   \n",
              "deposit_type                                 -0.001229 -0.090271   \n",
              "company                                       0.042687  0.121543   \n",
              "days_in_waiting_list                          0.021440 -0.007020   \n",
              "customer_type                                 0.011833  0.046316   \n",
              "adr                                           0.028831  0.056627   \n",
              "required_car_parking_spaces                   0.010960 -0.039101   \n",
              "total_of_special_requests                     0.003720  0.024430   \n",
              "reservation_status                            0.012448  0.011251   \n",
              "total_days                                   -0.027971  0.044204   \n",
              "total_customers                               0.005154 -0.007985   \n",
              "\n",
              "                             market_segment  distribution_channel  ...  \\\n",
              "hotel                             -0.084364             -0.174473  ...   \n",
              "is_canceled                        0.057241              0.166512  ...   \n",
              "lead_time                          0.013143              0.220976  ...   \n",
              "arrival_date_year                  0.111935              0.025582  ...   \n",
              "arrival_date_month                 0.001094              0.007844  ...   \n",
              "arrival_date_week_number          -0.000917              0.005999  ...   \n",
              "arrival_date_day_of_month         -0.004199              0.001474  ...   \n",
              "meal                               0.146540              0.117985  ...   \n",
              "market_segment                     1.000000              0.767718  ...   \n",
              "distribution_channel               0.767718              1.000000  ...   \n",
              "is_repeated_guest                 -0.246093             -0.258141  ...   \n",
              "reserved_room_type                 0.093214             -0.042541  ...   \n",
              "assigned_room_type                 0.024110             -0.105705  ...   \n",
              "booking_changes                   -0.072903             -0.114324  ...   \n",
              "deposit_type                      -0.184932              0.091225  ...   \n",
              "company                            0.295122              0.189187  ...   \n",
              "days_in_waiting_list              -0.043077              0.048186  ...   \n",
              "customer_type                     -0.166540             -0.068619  ...   \n",
              "adr                                0.231270              0.093562  ...   \n",
              "required_car_parking_spaces       -0.061893             -0.132287  ...   \n",
              "total_of_special_requests          0.273916              0.098250  ...   \n",
              "reservation_status                -0.059299             -0.169993  ...   \n",
              "total_days                         0.126700              0.100968  ...   \n",
              "total_customers                    0.212570              0.144696  ...   \n",
              "\n",
              "                             deposit_type   company  days_in_waiting_list  \\\n",
              "hotel                           -0.155026  0.366754             -0.071502   \n",
              "is_canceled                      0.467354 -0.021677              0.054322   \n",
              "lead_time                        0.375777  0.143806              0.170237   \n",
              "arrival_date_year               -0.065299  0.263713             -0.057384   \n",
              "arrival_date_month               0.002369 -0.093602              0.020000   \n",
              "arrival_date_week_number         0.002251 -0.095422              0.023749   \n",
              "arrival_date_day_of_month       -0.001229  0.042687              0.021440   \n",
              "meal                            -0.090271  0.121543             -0.007020   \n",
              "market_segment                  -0.184932  0.295122             -0.043077   \n",
              "distribution_channel             0.091225  0.189187              0.048186   \n",
              "is_repeated_guest               -0.057747 -0.245670             -0.022523   \n",
              "reserved_room_type              -0.198719  0.027825             -0.068090   \n",
              "assigned_room_type              -0.240921  0.106488             -0.068599   \n",
              "booking_changes                 -0.110863  0.120954             -0.013262   \n",
              "deposit_type                     1.000000  0.007777              0.121999   \n",
              "company                          0.007777  1.000000             -0.006732   \n",
              "days_in_waiting_list             0.121999 -0.006732              1.000000   \n",
              "customer_type                   -0.072593  0.271949              0.098976   \n",
              "adr                             -0.086046  0.091613             -0.039634   \n",
              "required_car_parking_spaces     -0.089800  0.000980             -0.029488   \n",
              "total_of_special_requests       -0.266183 -0.095001             -0.082515   \n",
              "reservation_status              -0.464571  0.009814             -0.058119   \n",
              "total_days                      -0.100240  0.156135             -0.021316   \n",
              "total_customers                 -0.078230  0.198484             -0.026104   \n",
              "\n",
              "                             customer_type       adr  \\\n",
              "hotel                            -0.047622 -0.099411   \n",
              "is_canceled                      -0.065687  0.047221   \n",
              "lead_time                         0.075026 -0.061618   \n",
              "arrival_date_year                -0.005010  0.193542   \n",
              "arrival_date_month               -0.030016  0.080533   \n",
              "arrival_date_week_number         -0.028746  0.077035   \n",
              "arrival_date_day_of_month         0.011833  0.028831   \n",
              "meal                              0.046316  0.056627   \n",
              "market_segment                   -0.166540  0.231270   \n",
              "distribution_channel             -0.068619  0.093562   \n",
              "is_repeated_guest                -0.017827 -0.135030   \n",
              "reserved_room_type               -0.122740  0.382079   \n",
              "assigned_room_type               -0.086073  0.249941   \n",
              "booking_changes                   0.092221  0.018406   \n",
              "deposit_type                     -0.072593 -0.086046   \n",
              "company                           0.271949  0.091613   \n",
              "days_in_waiting_list              0.098976 -0.039634   \n",
              "customer_type                     1.000000 -0.076453   \n",
              "adr                              -0.076453  1.000000   \n",
              "required_car_parking_spaces      -0.029671  0.051538   \n",
              "total_of_special_requests        -0.135601  0.166498   \n",
              "reservation_status                0.063423 -0.050022   \n",
              "total_days                       -0.136887  0.061648   \n",
              "total_customers                  -0.114597  0.358331   \n",
              "\n",
              "                             required_car_parking_spaces  \\\n",
              "hotel                                           0.216490   \n",
              "is_canceled                                    -0.194711   \n",
              "lead_time                                      -0.116425   \n",
              "arrival_date_year                              -0.017678   \n",
              "arrival_date_month                              0.001262   \n",
              "arrival_date_week_number                        0.003264   \n",
              "arrival_date_day_of_month                       0.010960   \n",
              "meal                                           -0.039101   \n",
              "market_segment                                 -0.061893   \n",
              "distribution_channel                           -0.132287   \n",
              "is_repeated_guest                               0.075030   \n",
              "reserved_room_type                              0.130537   \n",
              "assigned_room_type                              0.158195   \n",
              "booking_changes                                 0.062419   \n",
              "deposit_type                                   -0.089800   \n",
              "company                                         0.000980   \n",
              "days_in_waiting_list                           -0.029488   \n",
              "customer_type                                  -0.029671   \n",
              "adr                                             0.051538   \n",
              "required_car_parking_spaces                     1.000000   \n",
              "total_of_special_requests                       0.078700   \n",
              "reservation_status                              0.178333   \n",
              "total_days                                     -0.025773   \n",
              "total_customers                                 0.046675   \n",
              "\n",
              "                             total_of_special_requests  reservation_status  \\\n",
              "hotel                                         0.042221            0.123520   \n",
              "is_canceled                                  -0.237031           -0.915883   \n",
              "lead_time                                    -0.095988           -0.302591   \n",
              "arrival_date_year                             0.111282           -0.017228   \n",
              "arrival_date_month                            0.028146           -0.020803   \n",
              "arrival_date_week_number                      0.026228           -0.016978   \n",
              "arrival_date_day_of_month                     0.003720            0.012448   \n",
              "meal                                          0.024430            0.011251   \n",
              "market_segment                                0.273916           -0.059299   \n",
              "distribution_channel                          0.098250           -0.169993   \n",
              "is_repeated_guest                             0.011924            0.084120   \n",
              "reserved_room_type                            0.138199            0.056839   \n",
              "assigned_room_type                            0.125054            0.171143   \n",
              "booking_changes                               0.053413            0.137648   \n",
              "deposit_type                                 -0.266183           -0.464571   \n",
              "company                                      -0.095001            0.009814   \n",
              "days_in_waiting_list                         -0.082515           -0.058119   \n",
              "customer_type                                -0.135601            0.063423   \n",
              "adr                                           0.166498           -0.050022   \n",
              "required_car_parking_spaces                   0.078700            0.178333   \n",
              "total_of_special_requests                     1.000000            0.226460   \n",
              "reservation_status                            0.226460            1.000000   \n",
              "total_days                                    0.075344           -0.014246   \n",
              "total_customers                               0.156138           -0.057618   \n",
              "\n",
              "                             total_days  total_customers  \n",
              "hotel                          0.242948         0.040654  \n",
              "is_canceled                    0.021257         0.048297  \n",
              "lead_time                      0.157373         0.073316  \n",
              "arrival_date_year              0.030954         0.050823  \n",
              "arrival_date_month             0.019015         0.027886  \n",
              "arrival_date_week_number       0.016210         0.025704  \n",
              "arrival_date_day_of_month     -0.027971         0.005154  \n",
              "meal                           0.044204        -0.007985  \n",
              "market_segment                 0.126700         0.212570  \n",
              "distribution_channel           0.100968         0.144696  \n",
              "is_repeated_guest             -0.105552        -0.136843  \n",
              "reserved_room_type             0.177722         0.384172  \n",
              "assigned_room_type             0.106623         0.301214  \n",
              "booking_changes                0.100446        -0.006798  \n",
              "deposit_type                  -0.100240        -0.078230  \n",
              "company                        0.156135         0.198484  \n",
              "days_in_waiting_list          -0.021316        -0.026104  \n",
              "customer_type                 -0.136887        -0.114597  \n",
              "adr                            0.061648         0.358331  \n",
              "required_car_parking_spaces   -0.025773         0.046675  \n",
              "total_of_special_requests      0.075344         0.156138  \n",
              "reservation_status            -0.014246        -0.057618  \n",
              "total_days                     1.000000         0.112030  \n",
              "total_customers                0.112030         1.000000  \n",
              "\n",
              "[24 rows x 24 columns]"
            ]
          },
          "metadata": {
            "tags": []
          },
          "execution_count": 47
        }
      ]
    },
    {
      "cell_type": "code",
      "metadata": {
        "id": "zsdQ6LM5H_OR",
        "colab_type": "code",
        "outputId": "c9bc6407-5efc-4313-9d14-7c0e164a6ca3",
        "colab": {}
      },
      "source": [
        "feat_corr = train.corr()\n",
        "feat_corr['deposit_type'].sort_values()"
      ],
      "execution_count": 0,
      "outputs": [
        {
          "output_type": "execute_result",
          "data": {
            "text/plain": [
              "reservation_status            -0.464571\n",
              "total_of_special_requests     -0.266183\n",
              "assigned_room_type            -0.240921\n",
              "reserved_room_type            -0.198719\n",
              "market_segment                -0.184932\n",
              "hotel                         -0.155026\n",
              "booking_changes               -0.110863\n",
              "total_days                    -0.100240\n",
              "meal                          -0.090271\n",
              "required_car_parking_spaces   -0.089800\n",
              "adr                           -0.086046\n",
              "total_customers               -0.078236\n",
              "customer_type                 -0.072593\n",
              "arrival_date_year             -0.065299\n",
              "is_repeated_guest             -0.057747\n",
              "arrival_date_day_of_month     -0.001229\n",
              "arrival_date_week_number       0.002251\n",
              "arrival_date_month             0.002369\n",
              "distribution_channel           0.091225\n",
              "days_in_waiting_list           0.121999\n",
              "lead_time                      0.375777\n",
              "is_canceled                    0.467354\n",
              "deposit_type                   1.000000\n",
              "Name: deposit_type, dtype: float64"
            ]
          },
          "metadata": {
            "tags": []
          },
          "execution_count": 43
        }
      ]
    },
    {
      "cell_type": "code",
      "metadata": {
        "id": "O7Owz8LcH_OT",
        "colab_type": "code",
        "outputId": "97a81c46-839a-495b-9bc3-914e463a053d",
        "colab": {}
      },
      "source": [
        "plt.figure(figsize=(8,6))\n",
        "sns.heatmap(feat_corr)"
      ],
      "execution_count": 0,
      "outputs": [
        {
          "output_type": "execute_result",
          "data": {
            "text/plain": [
              "<matplotlib.axes._subplots.AxesSubplot at 0x11ec4cf8>"
            ]
          },
          "metadata": {
            "tags": []
          },
          "execution_count": 44
        },
        {
          "output_type": "display_data",
          "data": {
            "image/png": "[encoded data removed]",
            "text/plain": [
              "<Figure size 576x432 with 2 Axes>"
            ]
          },
          "metadata": {
            "tags": []
          }
        }
      ]
    },
    {
      "cell_type": "markdown",
      "metadata": {
        "id": "Vza_ybxyH_OW",
        "colab_type": "text"
      },
      "source": [
        "The diagonal shows correlation of each feature with itself, hence indicates highest correlation.\n",
        "Using the table and plot we observe that few features have veryhigh correlation\n",
        "Ex:- \n",
        "1. Arrival_date_year and arrival_date_month = -0.52\n",
        "2. Reservation_status and deposit type = -0.46 \n",
        "3. market_segment vs distribution_channel = 0.76\n",
        "4. reserved_room_type vs assigned_room_type = 0.81\n",
        "\n",
        "It is advisable to remove one of the features from the high correlation pair, but we will retain them and see the effect on performance"
      ]
    },
    {
      "cell_type": "code",
      "metadata": {
        "id": "5V1wHZtNH_OX",
        "colab_type": "code",
        "outputId": "08915da7-3fdd-4445-d574-09bd22cf5b75",
        "colab": {}
      },
      "source": [
        "feat_corr['is_canceled'].sort_values()"
      ],
      "execution_count": 0,
      "outputs": [
        {
          "output_type": "execute_result",
          "data": {
            "text/plain": [
              "reservation_status            -0.915883\n",
              "total_of_special_requests     -0.237031\n",
              "required_car_parking_spaces   -0.194711\n",
              "assigned_room_type            -0.173898\n",
              "booking_changes               -0.140347\n",
              "hotel                         -0.135266\n",
              "is_repeated_guest             -0.085456\n",
              "customer_type                 -0.065687\n",
              "reserved_room_type            -0.059555\n",
              "company                       -0.021677\n",
              "meal                          -0.014264\n",
              "arrival_date_day_of_month     -0.006537\n",
              "arrival_date_week_number       0.006479\n",
              "arrival_date_month             0.009405\n",
              "arrival_date_year              0.017205\n",
              "total_days                     0.021257\n",
              "adr                            0.047221\n",
              "total_customers                0.048297\n",
              "days_in_waiting_list           0.054322\n",
              "market_segment                 0.057241\n",
              "distribution_channel           0.166512\n",
              "lead_time                      0.293248\n",
              "deposit_type                   0.467354\n",
              "is_canceled                    1.000000\n",
              "Name: is_canceled, dtype: float64"
            ]
          },
          "metadata": {
            "tags": []
          },
          "execution_count": 51
        }
      ]
    },
    {
      "cell_type": "markdown",
      "metadata": {
        "id": "QXZZYjkAH_Oa",
        "colab_type": "text"
      },
      "source": [
        "The reservation_status has high correlation with is_canceled. For iteration 1, lets retain the feature."
      ]
    },
    {
      "cell_type": "markdown",
      "metadata": {
        "id": "NXqCLYp3H_Ob",
        "colab_type": "text"
      },
      "source": [
        "## Implementing Bernoulli NB"
      ]
    },
    {
      "cell_type": "markdown",
      "metadata": {
        "id": "IEztvx4BH_Ob",
        "colab_type": "text"
      },
      "source": [
        "Bernoulli NB classifier works on discrete data with Binary or boolean features. <a href=\"https://scikit-learn.org/stable/modules/generated/sklearn.naive_bayes.BernoulliNB.html#sklearn.naive_bayes.BernoulliNB\">sklearn documentation</a>"
      ]
    },
    {
      "cell_type": "markdown",
      "metadata": {
        "id": "tTPgk-ecH_Ob",
        "colab_type": "text"
      },
      "source": [
        "### Data discretization\n",
        "Convert continuous features to categorical features"
      ]
    },
    {
      "cell_type": "code",
      "metadata": {
        "id": "XF4Q8twiH_Oc",
        "colab_type": "code",
        "colab": {}
      },
      "source": [
        "train = backup_train.copy()\n",
        "test=backup_test.copy()"
      ],
      "execution_count": 0,
      "outputs": []
    },
    {
      "cell_type": "code",
      "metadata": {
        "id": "AjAshQ9xH_Oi",
        "colab_type": "code",
        "outputId": "a3a18ce0-58b2-41f2-dbfc-7066c1d04288",
        "colab": {}
      },
      "source": [
        "train.select_dtypes(include=[np.number]).dtypes"
      ],
      "execution_count": 0,
      "outputs": [
        {
          "output_type": "execute_result",
          "data": {
            "text/plain": [
              "is_canceled                      int64\n",
              "lead_time                        int64\n",
              "arrival_date_year                int64\n",
              "arrival_date_week_number         int64\n",
              "arrival_date_day_of_month        int64\n",
              "is_repeated_guest                int64\n",
              "booking_changes                  int64\n",
              "days_in_waiting_list             int64\n",
              "adr                            float64\n",
              "required_car_parking_spaces      int64\n",
              "total_of_special_requests        int64\n",
              "total_days                       int64\n",
              "total_customers                float64\n",
              "dtype: object"
            ]
          },
          "metadata": {
            "tags": []
          },
          "execution_count": 56
        }
      ]
    },
    {
      "cell_type": "markdown",
      "metadata": {
        "id": "uFjPlt9JH_Om",
        "colab_type": "text"
      },
      "source": [
        "### We will discretize the following continuous features -\n",
        "1. lead_time - Use quantile \n",
        "2. arrival_date_week_number - Use Custom bin size\n",
        "3. days_in_waiting_list - Drop the column\n",
        "4. adr - Use Quantile\n",
        "5. required_car_parking_spaces - 0 or more\n",
        "6. total_of_special_requests - Cap the feature to 3 requests        \n",
        "7. total_customers - Cap the feature to 4 customers               \n",
        "8. total_days - Use quantile"
      ]
    },
    {
      "cell_type": "code",
      "metadata": {
        "id": "FcekMiwpH_On",
        "colab_type": "code",
        "outputId": "25cf5ccb-1dc8-4153-a3a9-a181d74ccf88",
        "colab": {}
      },
      "source": [
        "sns.set(rc={\"figure.figsize\": (5, 5)})\n",
        "ax = sns.distplot(train['lead_time'], bins=100, color='r')"
      ],
      "execution_count": 0,
      "outputs": [
        {
          "output_type": "display_data",
          "data": {
            "image/png": "[encoded data removed]",
            "text/plain": [
              "<Figure size 360x360 with 1 Axes>"
            ]
          },
          "metadata": {
            "tags": []
          }
        }
      ]
    },
    {
      "cell_type": "code",
      "metadata": {
        "id": "iFsQPuk7H_Oq",
        "colab_type": "code",
        "colab": {}
      },
      "source": [
        "train['lead_time_q'], bins = pd.qcut(train['lead_time'], q=4,labels=False, retbins=True)\n",
        "train=train.drop('lead_time',axis=1)\n",
        "test['lead_time_q']=pd.cut(test['lead_time'], bins=bins,labels=False,precision=0)\n",
        "test=test.drop('lead_time',axis=1)"
      ],
      "execution_count": 0,
      "outputs": []
    },
    {
      "cell_type": "code",
      "metadata": {
        "id": "6EthqsPcH_Os",
        "colab_type": "code",
        "outputId": "38e62194-2ce6-427a-f0b9-bc19a01eeb9d",
        "colab": {}
      },
      "source": [
        "train[['lead_time_q']][:5]"
      ],
      "execution_count": 0,
      "outputs": [
        {
          "output_type": "execute_result",
          "data": {
            "text/html": [
              "<div>\n",
              "<style scoped>\n",
              "    .dataframe tbody tr th:only-of-type {\n",
              "        vertical-align: middle;\n",
              "    }\n",
              "\n",
              "    .dataframe tbody tr th {\n",
              "        vertical-align: top;\n",
              "    }\n",
              "\n",
              "    .dataframe thead th {\n",
              "        text-align: right;\n",
              "    }\n",
              "</style>\n",
              "<table border=\"1\" class=\"dataframe\">\n",
              "  <thead>\n",
              "    <tr style=\"text-align: right;\">\n",
              "      <th></th>\n",
              "      <th>lead_time_q</th>\n",
              "    </tr>\n",
              "  </thead>\n",
              "  <tbody>\n",
              "    <tr>\n",
              "      <th>9710</th>\n",
              "      <td>2</td>\n",
              "    </tr>\n",
              "    <tr>\n",
              "      <th>40307</th>\n",
              "      <td>1</td>\n",
              "    </tr>\n",
              "    <tr>\n",
              "      <th>110051</th>\n",
              "      <td>2</td>\n",
              "    </tr>\n",
              "    <tr>\n",
              "      <th>22999</th>\n",
              "      <td>0</td>\n",
              "    </tr>\n",
              "    <tr>\n",
              "      <th>8344</th>\n",
              "      <td>1</td>\n",
              "    </tr>\n",
              "  </tbody>\n",
              "</table>\n",
              "</div>"
            ],
            "text/plain": [
              "        lead_time_q\n",
              "9710              2\n",
              "40307             1\n",
              "110051            2\n",
              "22999             0\n",
              "8344              1"
            ]
          },
          "metadata": {
            "tags": []
          },
          "execution_count": 58
        }
      ]
    },
    {
      "cell_type": "code",
      "metadata": {
        "id": "evjB0-WjH_Oy",
        "colab_type": "code",
        "outputId": "c71d2e48-2a86-43c1-de15-f819cb4d2a82",
        "colab": {}
      },
      "source": [
        "train_0=train[(train['is_canceled']==0)]\n",
        "train_1=train[train['is_canceled']==1]\n",
        "fig, axes = plt.subplots(1, 2,figsize=(15,5))\n",
        "train_0.hist(column='arrival_date_week_number',bins=52,ax=axes[0])\n",
        "train_1.hist(column='arrival_date_week_number',bins=52,ax=axes[1])"
      ],
      "execution_count": 0,
      "outputs": [
        {
          "output_type": "execute_result",
          "data": {
            "text/plain": [
              "array([<matplotlib.axes._subplots.AxesSubplot object at 0x000000001B63F710>],\n",
              "      dtype=object)"
            ]
          },
          "metadata": {
            "tags": []
          },
          "execution_count": 55
        },
        {
          "output_type": "display_data",
          "data": {
            "image/png": "[encoded data removed]",
            "text/plain": [
              "<Figure size 1080x360 with 2 Axes>"
            ]
          },
          "metadata": {
            "tags": []
          }
        }
      ]
    },
    {
      "cell_type": "code",
      "metadata": {
        "id": "PJWFNx_hH_O3",
        "colab_type": "code",
        "colab": {}
      },
      "source": [
        "bins = [1,13,26,39,53]\n",
        "train['arrival_date_week_number_q'] = pd.cut(train['arrival_date_week_number'], bins=bins,labels=False)\n",
        "train=train.drop('arrival_date_week_number',axis=1)\n",
        "test['arrival_date_week_number_q']=pd.cut(test['arrival_date_week_number'], bins=bins,labels=False)\n",
        "test=test.drop('arrival_date_week_number',axis=1)"
      ],
      "execution_count": 0,
      "outputs": []
    },
    {
      "cell_type": "code",
      "metadata": {
        "id": "HT153aboH_O7",
        "colab_type": "code",
        "outputId": "827d7afb-3630-412d-ae87-b247fdad2abc",
        "colab": {}
      },
      "source": [
        "train_0=train[(train['is_canceled']==0)]\n",
        "train_1=train[train['is_canceled']==1]\n",
        "fig, axes = plt.subplots(1, 2,figsize=(15,5))\n",
        "train_0.hist(column='days_in_waiting_list',bins=100,ax=axes[0])\n",
        "train_1.hist(column='days_in_waiting_list',bins=100,ax=axes[1])"
      ],
      "execution_count": 0,
      "outputs": [
        {
          "output_type": "execute_result",
          "data": {
            "text/plain": [
              "array([<matplotlib.axes._subplots.AxesSubplot object at 0x000000001AF7A1D0>],\n",
              "      dtype=object)"
            ]
          },
          "metadata": {
            "tags": []
          },
          "execution_count": 54
        },
        {
          "output_type": "display_data",
          "data": {
            "image/png": "[encoded data removed]",
            "text/plain": [
              "<Figure size 1080x360 with 2 Axes>"
            ]
          },
          "metadata": {
            "tags": []
          }
        }
      ]
    },
    {
      "cell_type": "code",
      "metadata": {
        "id": "nWltnrEWH_O9",
        "colab_type": "code",
        "colab": {}
      },
      "source": [
        "train=train.drop('days_in_waiting_list',axis=1)\n",
        "test=test.drop('days_in_waiting_list',axis=1)"
      ],
      "execution_count": 0,
      "outputs": []
    },
    {
      "cell_type": "code",
      "metadata": {
        "id": "Jzr_zzl8H_PA",
        "colab_type": "code",
        "outputId": "2682c182-a61c-472d-da19-4333c673950f",
        "colab": {}
      },
      "source": [
        "train_0=train[(train['is_canceled']==0)]\n",
        "train_1=train[train['is_canceled']==1]\n",
        "sns.set(rc={\"figure.figsize\": (20, 20)})\n",
        "subplot(2,2,1)\n",
        "ax = sns.distplot(train_0['adr'], bins=100, color='r')\n",
        "subplot(2,2,2)\n",
        "ax=sns.distplot(train_1['adr'], bins=100, color='g')"
      ],
      "execution_count": 0,
      "outputs": [
        {
          "output_type": "display_data",
          "data": {
            "image/png": "[encoded data removed]",
            "text/plain": [
              "<Figure size 1440x1440 with 2 Axes>"
            ]
          },
          "metadata": {
            "tags": []
          }
        }
      ]
    },
    {
      "cell_type": "code",
      "metadata": {
        "id": "APWlb8dHH_PE",
        "colab_type": "code",
        "colab": {}
      },
      "source": [
        "train['adr_q'], bins = pd.qcut(train['adr'], q=4,labels=False, retbins=True)\n",
        "train=train.drop('adr',axis=1)\n",
        "test['adr_q']=pd.cut(test['adr'], bins=bins,labels=False,precision=0)\n",
        "test=test.drop('adr',axis=1)"
      ],
      "execution_count": 0,
      "outputs": []
    },
    {
      "cell_type": "code",
      "metadata": {
        "id": "QGgTQsmZH_PH",
        "colab_type": "code",
        "outputId": "5591aa33-e65e-4350-ff07-ca5b645db48d",
        "colab": {}
      },
      "source": [
        "train_0=train[(train['is_canceled']==0)]\n",
        "train_1=train[train['is_canceled']==1]\n",
        "fig, axes = plt.subplots(1, 2,figsize=(15,5))\n",
        "train_0.hist(column='required_car_parking_spaces',bins=20,ax=axes[0])\n",
        "train_1.hist(column='required_car_parking_spaces',bins=20,ax=axes[1])"
      ],
      "execution_count": 0,
      "outputs": [
        {
          "output_type": "execute_result",
          "data": {
            "text/plain": [
              "array([<matplotlib.axes._subplots.AxesSubplot object at 0x0000000011A7AB70>],\n",
              "      dtype=object)"
            ]
          },
          "metadata": {
            "tags": []
          },
          "execution_count": 55
        },
        {
          "output_type": "display_data",
          "data": {
            "image/png": "[encoded data removed]",
            "text/plain": [
              "<Figure size 1080x360 with 2 Axes>"
            ]
          },
          "metadata": {
            "tags": []
          }
        }
      ]
    },
    {
      "cell_type": "code",
      "metadata": {
        "id": "apq-eOnjH_PL",
        "colab_type": "code",
        "colab": {}
      },
      "source": [
        "train['required_car_parking_spaces'][train['required_car_parking_spaces'] >= 1] = 1\n",
        "test['required_car_parking_spaces'][test['required_car_parking_spaces'] >= 1] = 1"
      ],
      "execution_count": 0,
      "outputs": []
    },
    {
      "cell_type": "code",
      "metadata": {
        "id": "IhxYGcX7H_PM",
        "colab_type": "code",
        "outputId": "72d502fd-1b70-476b-a74e-b9a12942397d",
        "colab": {}
      },
      "source": [
        "train_0=train[(train['is_canceled']==0)]\n",
        "train_1=train[train['is_canceled']==1]\n",
        "fig, axes = plt.subplots(1, 2,figsize=(15,5))\n",
        "train_0.hist(column='total_of_special_requests',bins=20,ax=axes[0])\n",
        "train_1.hist(column='total_of_special_requests',bins=20,ax=axes[1])"
      ],
      "execution_count": 0,
      "outputs": [
        {
          "output_type": "execute_result",
          "data": {
            "text/plain": [
              "array([<matplotlib.axes._subplots.AxesSubplot object at 0x0000000010BC2710>],\n",
              "      dtype=object)"
            ]
          },
          "metadata": {
            "tags": []
          },
          "execution_count": 57
        },
        {
          "output_type": "display_data",
          "data": {
            "image/png": "[encoded data removed]",
            "text/plain": [
              "<Figure size 1080x360 with 2 Axes>"
            ]
          },
          "metadata": {
            "tags": []
          }
        }
      ]
    },
    {
      "cell_type": "code",
      "metadata": {
        "id": "KRH5WkzPH_PP",
        "colab_type": "code",
        "colab": {}
      },
      "source": [
        "train['total_of_special_requests'][train['total_of_special_requests'] >= 3] = 3\n",
        "test['total_of_special_requests'][test['total_of_special_requests'] >= 3] = 3"
      ],
      "execution_count": 0,
      "outputs": []
    },
    {
      "cell_type": "code",
      "metadata": {
        "id": "hUrpCPnRH_PS",
        "colab_type": "code",
        "colab": {}
      },
      "source": [
        "train['total_days_q'], bins = pd.qcut(train['total_days'], q=4,labels=False, retbins=True)\n",
        "train=train.drop('total_days',axis=1)\n",
        "test['total_days_q']=pd.cut(test['total_days'], bins=bins,labels=False,precision=0)\n",
        "test=test.drop('total_days',axis=1)"
      ],
      "execution_count": 0,
      "outputs": []
    },
    {
      "cell_type": "code",
      "metadata": {
        "id": "5DazZamcH_PU",
        "colab_type": "code",
        "outputId": "a97f7fb9-8b2e-4276-cffb-1e98015fd759",
        "colab": {}
      },
      "source": [
        "train_0=train[(train['is_canceled']==0)]\n",
        "train_1=train[train['is_canceled']==1]\n",
        "fig, axes = plt.subplots(1, 2,figsize=(15,5))\n",
        "train_0['total_customers'].value_counts().plot('bar',ax=axes[0])\n",
        "train_1['total_customers'].value_counts().plot('bar',ax=axes[1])"
      ],
      "execution_count": 0,
      "outputs": [
        {
          "output_type": "execute_result",
          "data": {
            "text/plain": [
              "<matplotlib.axes._subplots.AxesSubplot at 0x10bfdc50>"
            ]
          },
          "metadata": {
            "tags": []
          },
          "execution_count": 60
        },
        {
          "output_type": "display_data",
          "data": {
            "image/png": "[encoded data removed]",
            "text/plain": [
              "<Figure size 1080x360 with 2 Axes>"
            ]
          },
          "metadata": {
            "tags": []
          }
        }
      ]
    },
    {
      "cell_type": "code",
      "metadata": {
        "scrolled": true,
        "id": "veed1WvcH_PX",
        "colab_type": "code",
        "colab": {}
      },
      "source": [
        "train['total_customers'][train['total_customers'] >= 4] = 4\n",
        "train['total_customers'][train['total_customers'] <= 0] = 1\n",
        "\n",
        "test['total_customers'][test['total_customers'] >= 4] = 4\n",
        "test['total_customers'][test['total_customers'] <= 1] = 1"
      ],
      "execution_count": 0,
      "outputs": []
    },
    {
      "cell_type": "code",
      "metadata": {
        "id": "BkvWMGmcH_Pa",
        "colab_type": "code",
        "outputId": "bbc542c8-2aef-4e5f-fcdd-59bb03fe6003",
        "colab": {}
      },
      "source": [
        "train_0=train[(train['is_canceled']==0)]\n",
        "train_1=train[train['is_canceled']==1]\n",
        "fig, axes = plt.subplots(1, 2,figsize=(15,5))\n",
        "train_0['arrival_date_day_of_month'].value_counts().plot('bar',ax=axes[0])\n",
        "train_1['arrival_date_day_of_month'].value_counts().plot('bar',ax=axes[1])"
      ],
      "execution_count": 0,
      "outputs": [
        {
          "output_type": "execute_result",
          "data": {
            "text/plain": [
              "<matplotlib.axes._subplots.AxesSubplot at 0x11708f28>"
            ]
          },
          "metadata": {
            "tags": []
          },
          "execution_count": 62
        },
        {
          "output_type": "display_data",
          "data": {
            "image/png": "[encoded data removed]",
            "text/plain": [
              "<Figure size 1080x360 with 2 Axes>"
            ]
          },
          "metadata": {
            "tags": []
          }
        }
      ]
    },
    {
      "cell_type": "code",
      "metadata": {
        "id": "uq-pDRNIH_Pd",
        "colab_type": "code",
        "colab": {}
      },
      "source": [
        "train['arrival_date_day_of_month_q'], bins = pd.qcut(train['arrival_date_day_of_month'], q=4,labels=False, retbins=True)\n",
        "train=train.drop('arrival_date_day_of_month',axis=1)\n",
        "test['arrival_date_day_of_month_q']=pd.cut(test['arrival_date_day_of_month'], bins=bins,labels=False,precision=0)\n",
        "test=test.drop('arrival_date_day_of_month',axis=1)"
      ],
      "execution_count": 0,
      "outputs": []
    },
    {
      "cell_type": "code",
      "metadata": {
        "id": "pOzoFWamH_Pf",
        "colab_type": "code",
        "outputId": "1537763f-8786-4494-cad9-549919952033",
        "colab": {}
      },
      "source": [
        "train.shape"
      ],
      "execution_count": 0,
      "outputs": [
        {
          "output_type": "execute_result",
          "data": {
            "text/plain": [
              "(83573, 22)"
            ]
          },
          "metadata": {
            "tags": []
          },
          "execution_count": 67
        }
      ]
    },
    {
      "cell_type": "code",
      "metadata": {
        "id": "g0jLgc0HH_Ph",
        "colab_type": "code",
        "outputId": "436dd887-a1e4-419c-fee9-d73c0d0b1181",
        "colab": {}
      },
      "source": [
        "train.columns"
      ],
      "execution_count": 0,
      "outputs": [
        {
          "output_type": "execute_result",
          "data": {
            "text/plain": [
              "Index([u'hotel', u'is_canceled', u'arrival_date_year', u'arrival_date_month',\n",
              "       u'meal', u'market_segment', u'distribution_channel',\n",
              "       u'is_repeated_guest', u'reserved_room_type', u'assigned_room_type',\n",
              "       u'booking_changes', u'deposit_type', u'customer_type',\n",
              "       u'required_car_parking_spaces', u'total_of_special_requests',\n",
              "       u'reservation_status', u'total_customers', u'lead_time_q',\n",
              "       u'arrival_date_week_number_q', u'adr_q', u'total_days_q',\n",
              "       u'arrival_date_day_of_month_q'],\n",
              "      dtype='object')"
            ]
          },
          "metadata": {
            "tags": []
          },
          "execution_count": 68
        }
      ]
    },
    {
      "cell_type": "markdown",
      "metadata": {
        "id": "sGN13aJbH_Pk",
        "colab_type": "text"
      },
      "source": [
        "### Model 1 "
      ]
    },
    {
      "cell_type": "code",
      "metadata": {
        "id": "V1bIq_gdH_Pk",
        "colab_type": "code",
        "colab": {}
      },
      "source": [
        "y_train = train[\"is_canceled\"]\n",
        "X_train = train.drop([\"is_canceled\"], axis=1)\n",
        "y_test = test[\"is_canceled\"]\n",
        "X_test = test.drop([\"is_canceled\"], axis=1)"
      ],
      "execution_count": 0,
      "outputs": []
    },
    {
      "cell_type": "code",
      "metadata": {
        "id": "w7Zx451tH_Pn",
        "colab_type": "code",
        "colab": {}
      },
      "source": [
        "X_train_enc = pd.get_dummies(data=X_train,columns=X_train.columns)\n",
        "X_test_enc = pd.get_dummies(data=X_test,columns=X_test.columns)\n",
        "X_train_enc,X_test_enc =X_train_enc.align(X_test_enc, join='left', axis=1)\n",
        "X_test_enc=X_test_enc.fillna(0)"
      ],
      "execution_count": 0,
      "outputs": []
    },
    {
      "cell_type": "code",
      "metadata": {
        "id": "C_tLupHzH_Pr",
        "colab_type": "code",
        "outputId": "26c186b8-d710-4821-c453-ee9935f3de0a",
        "colab": {}
      },
      "source": [
        "X_train_enc[:5]"
      ],
      "execution_count": 0,
      "outputs": [
        {
          "output_type": "execute_result",
          "data": {
            "text/html": [
              "<div>\n",
              "<style scoped>\n",
              "    .dataframe tbody tr th:only-of-type {\n",
              "        vertical-align: middle;\n",
              "    }\n",
              "\n",
              "    .dataframe tbody tr th {\n",
              "        vertical-align: top;\n",
              "    }\n",
              "\n",
              "    .dataframe thead th {\n",
              "        text-align: right;\n",
              "    }\n",
              "</style>\n",
              "<table border=\"1\" class=\"dataframe\">\n",
              "  <thead>\n",
              "    <tr style=\"text-align: right;\">\n",
              "      <th></th>\n",
              "      <th>hotel_City Hotel</th>\n",
              "      <th>hotel_Resort Hotel</th>\n",
              "      <th>arrival_date_year_2015</th>\n",
              "      <th>arrival_date_year_2016</th>\n",
              "      <th>arrival_date_year_2017</th>\n",
              "      <th>arrival_date_month_April</th>\n",
              "      <th>arrival_date_month_August</th>\n",
              "      <th>arrival_date_month_December</th>\n",
              "      <th>arrival_date_month_February</th>\n",
              "      <th>arrival_date_month_January</th>\n",
              "      <th>...</th>\n",
              "      <th>adr_q_2</th>\n",
              "      <th>adr_q_3</th>\n",
              "      <th>total_days_q_0</th>\n",
              "      <th>total_days_q_1</th>\n",
              "      <th>total_days_q_2</th>\n",
              "      <th>total_days_q_3</th>\n",
              "      <th>arrival_date_day_of_month_q_0</th>\n",
              "      <th>arrival_date_day_of_month_q_1</th>\n",
              "      <th>arrival_date_day_of_month_q_2</th>\n",
              "      <th>arrival_date_day_of_month_q_3</th>\n",
              "    </tr>\n",
              "  </thead>\n",
              "  <tbody>\n",
              "    <tr>\n",
              "      <th>9710</th>\n",
              "      <td>0</td>\n",
              "      <td>1</td>\n",
              "      <td>0</td>\n",
              "      <td>1</td>\n",
              "      <td>0</td>\n",
              "      <td>0</td>\n",
              "      <td>0</td>\n",
              "      <td>1</td>\n",
              "      <td>0</td>\n",
              "      <td>0</td>\n",
              "      <td>...</td>\n",
              "      <td>0</td>\n",
              "      <td>0</td>\n",
              "      <td>0</td>\n",
              "      <td>0</td>\n",
              "      <td>1</td>\n",
              "      <td>0</td>\n",
              "      <td>0</td>\n",
              "      <td>0</td>\n",
              "      <td>0</td>\n",
              "      <td>1</td>\n",
              "    </tr>\n",
              "    <tr>\n",
              "      <th>40307</th>\n",
              "      <td>1</td>\n",
              "      <td>0</td>\n",
              "      <td>1</td>\n",
              "      <td>0</td>\n",
              "      <td>0</td>\n",
              "      <td>0</td>\n",
              "      <td>0</td>\n",
              "      <td>0</td>\n",
              "      <td>0</td>\n",
              "      <td>0</td>\n",
              "      <td>...</td>\n",
              "      <td>0</td>\n",
              "      <td>0</td>\n",
              "      <td>1</td>\n",
              "      <td>0</td>\n",
              "      <td>0</td>\n",
              "      <td>0</td>\n",
              "      <td>0</td>\n",
              "      <td>0</td>\n",
              "      <td>1</td>\n",
              "      <td>0</td>\n",
              "    </tr>\n",
              "    <tr>\n",
              "      <th>110051</th>\n",
              "      <td>1</td>\n",
              "      <td>0</td>\n",
              "      <td>0</td>\n",
              "      <td>0</td>\n",
              "      <td>1</td>\n",
              "      <td>1</td>\n",
              "      <td>0</td>\n",
              "      <td>0</td>\n",
              "      <td>0</td>\n",
              "      <td>0</td>\n",
              "      <td>...</td>\n",
              "      <td>0</td>\n",
              "      <td>1</td>\n",
              "      <td>0</td>\n",
              "      <td>0</td>\n",
              "      <td>0</td>\n",
              "      <td>1</td>\n",
              "      <td>0</td>\n",
              "      <td>1</td>\n",
              "      <td>0</td>\n",
              "      <td>0</td>\n",
              "    </tr>\n",
              "    <tr>\n",
              "      <th>22999</th>\n",
              "      <td>0</td>\n",
              "      <td>1</td>\n",
              "      <td>0</td>\n",
              "      <td>0</td>\n",
              "      <td>1</td>\n",
              "      <td>0</td>\n",
              "      <td>0</td>\n",
              "      <td>0</td>\n",
              "      <td>1</td>\n",
              "      <td>0</td>\n",
              "      <td>...</td>\n",
              "      <td>0</td>\n",
              "      <td>0</td>\n",
              "      <td>1</td>\n",
              "      <td>0</td>\n",
              "      <td>0</td>\n",
              "      <td>0</td>\n",
              "      <td>1</td>\n",
              "      <td>0</td>\n",
              "      <td>0</td>\n",
              "      <td>0</td>\n",
              "    </tr>\n",
              "    <tr>\n",
              "      <th>8344</th>\n",
              "      <td>0</td>\n",
              "      <td>1</td>\n",
              "      <td>0</td>\n",
              "      <td>1</td>\n",
              "      <td>0</td>\n",
              "      <td>0</td>\n",
              "      <td>0</td>\n",
              "      <td>0</td>\n",
              "      <td>0</td>\n",
              "      <td>0</td>\n",
              "      <td>...</td>\n",
              "      <td>1</td>\n",
              "      <td>0</td>\n",
              "      <td>1</td>\n",
              "      <td>0</td>\n",
              "      <td>0</td>\n",
              "      <td>0</td>\n",
              "      <td>0</td>\n",
              "      <td>0</td>\n",
              "      <td>1</td>\n",
              "      <td>0</td>\n",
              "    </tr>\n",
              "  </tbody>\n",
              "</table>\n",
              "<p>5 rows × 118 columns</p>\n",
              "</div>"
            ],
            "text/plain": [
              "        hotel_City Hotel  hotel_Resort Hotel  arrival_date_year_2015  \\\n",
              "9710                   0                   1                       0   \n",
              "40307                  1                   0                       1   \n",
              "110051                 1                   0                       0   \n",
              "22999                  0                   1                       0   \n",
              "8344                   0                   1                       0   \n",
              "\n",
              "        arrival_date_year_2016  arrival_date_year_2017  \\\n",
              "9710                         1                       0   \n",
              "40307                        0                       0   \n",
              "110051                       0                       1   \n",
              "22999                        0                       1   \n",
              "8344                         1                       0   \n",
              "\n",
              "        arrival_date_month_April  arrival_date_month_August  \\\n",
              "9710                           0                          0   \n",
              "40307                          0                          0   \n",
              "110051                         1                          0   \n",
              "22999                          0                          0   \n",
              "8344                           0                          0   \n",
              "\n",
              "        arrival_date_month_December  arrival_date_month_February  \\\n",
              "9710                              1                            0   \n",
              "40307                             0                            0   \n",
              "110051                            0                            0   \n",
              "22999                             0                            1   \n",
              "8344                              0                            0   \n",
              "\n",
              "        arrival_date_month_January  ...  adr_q_2  adr_q_3  total_days_q_0  \\\n",
              "9710                             0  ...        0        0               0   \n",
              "40307                            0  ...        0        0               1   \n",
              "110051                           0  ...        0        1               0   \n",
              "22999                            0  ...        0        0               1   \n",
              "8344                             0  ...        1        0               1   \n",
              "\n",
              "        total_days_q_1  total_days_q_2  total_days_q_3  \\\n",
              "9710                 0               1               0   \n",
              "40307                0               0               0   \n",
              "110051               0               0               1   \n",
              "22999                0               0               0   \n",
              "8344                 0               0               0   \n",
              "\n",
              "        arrival_date_day_of_month_q_0  arrival_date_day_of_month_q_1  \\\n",
              "9710                                0                              0   \n",
              "40307                               0                              0   \n",
              "110051                              0                              1   \n",
              "22999                               1                              0   \n",
              "8344                                0                              0   \n",
              "\n",
              "        arrival_date_day_of_month_q_2  arrival_date_day_of_month_q_3  \n",
              "9710                                0                              1  \n",
              "40307                               1                              0  \n",
              "110051                              0                              0  \n",
              "22999                               0                              0  \n",
              "8344                                1                              0  \n",
              "\n",
              "[5 rows x 118 columns]"
            ]
          },
          "metadata": {
            "tags": []
          },
          "execution_count": 68
        }
      ]
    },
    {
      "cell_type": "code",
      "metadata": {
        "id": "2tyIQGpWH_Ps",
        "colab_type": "code",
        "outputId": "f0dbf961-b9e1-4382-c014-4beeea5a9876",
        "colab": {}
      },
      "source": [
        "clf_bern1 = BernoulliNB()\n",
        "clf_bern1.fit(X_train_enc, y_train)"
      ],
      "execution_count": 0,
      "outputs": [
        {
          "output_type": "execute_result",
          "data": {
            "text/plain": [
              "BernoulliNB(alpha=1.0, binarize=0.0, class_prior=None, fit_prior=True)"
            ]
          },
          "metadata": {
            "tags": []
          },
          "execution_count": 69
        }
      ]
    },
    {
      "cell_type": "markdown",
      "metadata": {
        "id": "8mAKalcFH_P3",
        "colab_type": "text"
      },
      "source": [
        "<b> Parameters - </b>\n",
        "1. Alpha - Smoothing parameter\n",
        "2. Binarize - Threshold for binarizing (mapping to booleans) of sample features\n",
        "3. Fit_prior - Learn class prior probabilities from data or using user provided priors\n",
        "4. Class_prior - Prior probabilities of the classes. If specified the priors are not adjusted according to the data"
      ]
    },
    {
      "cell_type": "markdown",
      "metadata": {
        "id": "RP8z_mQAH_P4",
        "colab_type": "text"
      },
      "source": [
        "## Evaluation metric\n",
        "<b> Precission and Recall </b>"
      ]
    },
    {
      "cell_type": "markdown",
      "metadata": {
        "id": "MzC4zHfqH_P5",
        "colab_type": "text"
      },
      "source": [
        "\n",
        "<img src=\"https://github.com/WomenWhoCode/WWCodeDataScience/blob/master/Intro_to_MachineLearning/img/PR%20diagram1.PNG?raw=1\" width=\"200p\"/>\n",
        "<img src=\"https://github.com/WomenWhoCode/WWCodeDataScience/blob/master/Intro_to_MachineLearning/img/PR%20diagram%202.PNG?raw=1\" width=\"400\"/>\n"
      ]
    },
    {
      "cell_type": "markdown",
      "metadata": {
        "id": "zh2rszo_H_P5",
        "colab_type": "text"
      },
      "source": [
        "<br><b> Confusion Matrix </b>\n",
        "<img src=\"https://github.com/WomenWhoCode/WWCodeDataScience/blob/master/Intro_to_MachineLearning/img/Confusion%20matrix.PNG?raw=1\" width=\"200\"/>"
      ]
    },
    {
      "cell_type": "code",
      "metadata": {
        "id": "7oBoxlOeH_P5",
        "colab_type": "code",
        "colab": {}
      },
      "source": [
        "y_pred_bern1 = clf_bern1.predict(X_test_enc)\n",
        "y_prob_bern1=clf_bern1.predict_proba(X_test_enc)"
      ],
      "execution_count": 0,
      "outputs": []
    },
    {
      "cell_type": "code",
      "metadata": {
        "id": "helLVPtgH_P8",
        "colab_type": "code",
        "outputId": "8f451fdd-0cf6-4c01-d0ac-d33869f73182",
        "colab": {}
      },
      "source": [
        "y_pred_bern1[:10]"
      ],
      "execution_count": 0,
      "outputs": [
        {
          "output_type": "execute_result",
          "data": {
            "text/plain": [
              "array([0, 1, 0, 0, 0, 0, 1, 0, 0, 0], dtype=int64)"
            ]
          },
          "metadata": {
            "tags": []
          },
          "execution_count": 71
        }
      ]
    },
    {
      "cell_type": "code",
      "metadata": {
        "id": "5yBjVdafH_P_",
        "colab_type": "code",
        "outputId": "8dfc43a0-f316-4c55-9dcb-7c83bfe14270",
        "colab": {}
      },
      "source": [
        "y_prob_bern1[:10]"
      ],
      "execution_count": 0,
      "outputs": [
        {
          "output_type": "execute_result",
          "data": {
            "text/plain": [
              "array([[9.99999999e-01, 5.02418625e-10],\n",
              "       [5.51943911e-11, 1.00000000e+00],\n",
              "       [1.00000000e+00, 1.58222076e-10],\n",
              "       [9.99999568e-01, 4.31729356e-07],\n",
              "       [9.99989462e-01, 1.05375169e-05],\n",
              "       [9.99998797e-01, 1.20295386e-06],\n",
              "       [8.87965924e-10, 9.99999999e-01],\n",
              "       [9.99999737e-01, 2.63231796e-07],\n",
              "       [9.99999994e-01, 5.94617864e-09],\n",
              "       [9.99994337e-01, 5.66287011e-06]])"
            ]
          },
          "metadata": {
            "tags": []
          },
          "execution_count": 72
        }
      ]
    },
    {
      "cell_type": "code",
      "metadata": {
        "id": "BjNy61i9H_QB",
        "colab_type": "code",
        "outputId": "16742c0f-3fc7-47df-f907-e786531fa170",
        "colab": {}
      },
      "source": [
        "print('test-set confusion matrix:\\n', confusion_matrix(y_test,y_pred_bern1)) \n",
        "print(\"recall score: \", recall_score(y_test,y_pred_bern1))\n",
        "print(\"precision score: \", precision_score(y_test,y_pred_bern1))\n",
        "print(\"f1 score: \", f1_score(y_test,y_pred_bern1))\n",
        "print(\"accuracy score: \", accuracy_score(y_test,y_pred_bern1))"
      ],
      "execution_count": 0,
      "outputs": [
        {
          "output_type": "stream",
          "text": [
            "('test-set confusion matrix:\\n', array([[22478,     0],\n",
            "       [    0, 13339]], dtype=int64))\n",
            "('recall score: ', 1.0)\n",
            "('precision score: ', 1.0)\n",
            "('f1 score: ', 1.0)\n",
            "('accuracy score: ', 1.0)\n"
          ],
          "name": "stdout"
        }
      ]
    },
    {
      "cell_type": "markdown",
      "metadata": {
        "id": "eDhy_GZsH_QE",
        "colab_type": "text"
      },
      "source": [
        "### Model 2 - \n",
        "Remove the feature that is highly correlated with target feature\n",
        "<br>\n",
        "<b>Reservation_status</b> has high correlation with is_canceled. Looking at the values in column reveals that canceled is a reservation type. This might be causing data leak. Hence we will delete this feature"
      ]
    },
    {
      "cell_type": "code",
      "metadata": {
        "id": "tyIC00MpH_QG",
        "colab_type": "code",
        "outputId": "a0b4ba61-df48-4445-9f9a-806f88a8e928",
        "colab": {}
      },
      "source": [
        "backup_train['reservation_status'].unique()"
      ],
      "execution_count": 0,
      "outputs": [
        {
          "output_type": "execute_result",
          "data": {
            "text/plain": [
              "array(['Canceled', 'Check-Out', 'No-Show'], dtype=object)"
            ]
          },
          "metadata": {
            "tags": []
          },
          "execution_count": 74
        }
      ]
    },
    {
      "cell_type": "code",
      "metadata": {
        "id": "fpSV04UFH_QI",
        "colab_type": "code",
        "colab": {}
      },
      "source": [
        "X_train = X_train.drop('reservation_status',axis=1)\n",
        "X_test = X_test.drop('reservation_status',axis=1)"
      ],
      "execution_count": 0,
      "outputs": []
    },
    {
      "cell_type": "code",
      "metadata": {
        "id": "H5g_qgewH_QJ",
        "colab_type": "code",
        "colab": {}
      },
      "source": [
        "X_train_enc = pd.get_dummies(data=X_train,columns=X_train.columns)\n",
        "X_test_enc = pd.get_dummies(data=X_test,columns=X_test.columns)\n",
        "X_train_enc,X_test_enc =X_train_enc.align(X_test_enc, join='left', axis=1)\n",
        "X_test_enc=X_test_enc.fillna(0)"
      ],
      "execution_count": 0,
      "outputs": []
    },
    {
      "cell_type": "code",
      "metadata": {
        "id": "9eaKuQ6TH_QM",
        "colab_type": "code",
        "outputId": "d43b5f24-c344-4e73-b5b4-eed8f2ac0217",
        "colab": {}
      },
      "source": [
        "clf_bern2 = BernoulliNB()\n",
        "clf_bern2.fit(X_train_enc, y_train)\n",
        "y_pred_bern2 = clf_bern2.predict(X_test_enc)\n",
        "y_prob_bern2=clf_bern2.predict_proba(X_test_enc)\n",
        "print('test-set confusion matrix:\\n', confusion_matrix(y_test,y_pred_bern2)) \n",
        "print(\"recall score: \", recall_score(y_test,y_pred_bern2))\n",
        "print(\"precision score: \", precision_score(y_test,y_pred_bern2))\n",
        "print(\"f1 score: \", f1_score(y_test,y_pred_bern2))\n",
        "print(\"accuracy score: \", accuracy_score(y_test,y_pred_bern2))"
      ],
      "execution_count": 0,
      "outputs": [
        {
          "output_type": "stream",
          "text": [
            "('test-set confusion matrix:\\n', array([[18713,  3765],\n",
            "       [ 5549,  7790]], dtype=int64))\n",
            "('recall score: ', 0.584001799235325)\n",
            "('precision score: ', 0.674167027260926)\n",
            "('f1 score: ', 0.6258536193460272)\n",
            "('accuracy score: ', 0.7399558868693638)\n"
          ],
          "name": "stdout"
        }
      ]
    },
    {
      "cell_type": "markdown",
      "metadata": {
        "id": "jldT0XLvH_QO",
        "colab_type": "text"
      },
      "source": [
        "### Model 3 - \n",
        "Let us remove 1 feature from the correlated feature pair\n",
        "1. Arrival_date_year and arrival_date_month = -0.52\n",
        "2. Reservation_status and deposit type = -0.46 \n",
        "3. market_segment vs distribution_channel = 0.76\n",
        "4. reserved_room_type vs assigned_room_type = 0.81"
      ]
    },
    {
      "cell_type": "code",
      "metadata": {
        "id": "HpsdA13JH_QO",
        "colab_type": "code",
        "colab": {}
      },
      "source": [
        "X_train = X_train.drop('arrival_date_month',axis=1)\n",
        "X_test = X_test.drop('arrival_date_month',axis=1)\n",
        "\n",
        "X_train = X_train.drop('market_segment',axis=1)\n",
        "X_test = X_test.drop('market_segment',axis=1)\n",
        "\n",
        "X_train = X_train.drop('reserved_room_type',axis=1)\n",
        "X_test = X_test.drop('reserved_room_type',axis=1)"
      ],
      "execution_count": 0,
      "outputs": []
    },
    {
      "cell_type": "code",
      "metadata": {
        "id": "8uDSgwMHH_QS",
        "colab_type": "code",
        "colab": {}
      },
      "source": [
        "X_train_enc = pd.get_dummies(data=X_train,columns=X_train.columns)\n",
        "X_test_enc = pd.get_dummies(data=X_test,columns=X_test.columns)\n",
        "X_train_enc,X_test_enc =X_train_enc.align(X_test_enc, join='left', axis=1)\n",
        "X_test_enc=X_test_enc.fillna(0)"
      ],
      "execution_count": 0,
      "outputs": []
    },
    {
      "cell_type": "code",
      "metadata": {
        "id": "MkfD-MfCH_QX",
        "colab_type": "code",
        "outputId": "c04df6ae-485a-4fbb-e964-5b9dfa4ca001",
        "colab": {}
      },
      "source": [
        "clf_bern3 = BernoulliNB()\n",
        "clf_bern3.fit(X_train_enc, y_train)"
      ],
      "execution_count": 0,
      "outputs": [
        {
          "output_type": "execute_result",
          "data": {
            "text/plain": [
              "BernoulliNB(alpha=1.0, binarize=0.0, class_prior=None, fit_prior=True)"
            ]
          },
          "metadata": {
            "tags": []
          },
          "execution_count": 80
        }
      ]
    },
    {
      "cell_type": "code",
      "metadata": {
        "id": "xMKBZ_fPH_Qc",
        "colab_type": "code",
        "outputId": "623152ec-fa9d-4c20-9be3-e027e87e8dc0",
        "colab": {}
      },
      "source": [
        "y_pred_bern3 = clf_bern3.predict(X_test_enc)\n",
        "y_prob_bern3=clf_bern3.predict_proba(X_test_enc)\n",
        "print('test-set confusion matrix:\\n', confusion_matrix(y_test,y_pred_bern3)) \n",
        "print(\"recall score: \", recall_score(y_test,y_pred_bern3))\n",
        "print(\"precision score: \", precision_score(y_test,y_pred_bern3))\n",
        "print(\"f1 score: \", f1_score(y_test,y_pred_bern3))\n",
        "print(\"accuracy score: \", accuracy_score(y_test,y_pred_bern3))"
      ],
      "execution_count": 0,
      "outputs": [
        {
          "output_type": "stream",
          "text": [
            "('test-set confusion matrix:\\n', array([[19029,  3449],\n",
            "       [ 5595,  7744]], dtype=int64))\n",
            "('recall score: ', 0.5805532648624334)\n",
            "('precision score: ', 0.6918609845439114)\n",
            "('f1 score: ', 0.6313386597097668)\n",
            "('accuracy score: ', 0.7474942066616411)\n"
          ],
          "name": "stdout"
        }
      ]
    },
    {
      "cell_type": "markdown",
      "metadata": {
        "id": "83QBmrvGH_Qf",
        "colab_type": "text"
      },
      "source": [
        "In practice, even though Naive Bayes assumption of independent features is violated, there is no significant impact on model performance"
      ]
    },
    {
      "cell_type": "markdown",
      "metadata": {
        "id": "yJtJ2m3RH_Qf",
        "colab_type": "text"
      },
      "source": [
        "## Implementing gaussian NB classifier"
      ]
    },
    {
      "cell_type": "markdown",
      "metadata": {
        "id": "uvZAXdIjH_Qg",
        "colab_type": "text"
      },
      "source": [
        "GaussianNB implements the Gaussian Naive Bayes algorithm for classification. The likelihood of the features is assumed to be Gaussian. <a href=\"https://scikit-learn.org/stable/modules/naive_bayes.html\">sklearn documentation</a>"
      ]
    },
    {
      "cell_type": "code",
      "metadata": {
        "id": "RtqCEEqsH_Qg",
        "colab_type": "code",
        "colab": {}
      },
      "source": [
        "train = backup_train.copy()\n",
        "test=backup_test.copy()"
      ],
      "execution_count": 0,
      "outputs": []
    },
    {
      "cell_type": "code",
      "metadata": {
        "id": "UuuWwH6LH_Qi",
        "colab_type": "code",
        "colab": {}
      },
      "source": [
        "train=train.fillna(0)\n",
        "test=test.fillna(0)\n",
        "y_train = train[\"is_canceled\"]\n",
        "X_train =train[['lead_time','arrival_date_week_number','days_in_waiting_list','adr','required_car_parking_spaces',\\\n",
        "               'total_days','total_of_special_requests','total_customers']]\n",
        "y_test = test[\"is_canceled\"]\n",
        "X_test = test[['lead_time','arrival_date_week_number','days_in_waiting_list','adr','required_car_parking_spaces',\\\n",
        "               'total_days','total_of_special_requests','total_customers']]"
      ],
      "execution_count": 0,
      "outputs": []
    },
    {
      "cell_type": "code",
      "metadata": {
        "id": "wY3jZVpLH_Qm",
        "colab_type": "code",
        "outputId": "4b111092-07f5-44e8-b7a6-061a17a698c2",
        "colab": {}
      },
      "source": [
        "classifier2 = GaussianNB()\n",
        "classifier2.fit(X_train, y_train)"
      ],
      "execution_count": 0,
      "outputs": [
        {
          "output_type": "execute_result",
          "data": {
            "text/plain": [
              "GaussianNB(priors=None, var_smoothing=1e-09)"
            ]
          },
          "metadata": {
            "tags": []
          },
          "execution_count": 84
        }
      ]
    },
    {
      "cell_type": "markdown",
      "metadata": {
        "id": "ToPCgHTLH_Qp",
        "colab_type": "text"
      },
      "source": [
        "<b> Parameters - </b>\n",
        "1. Priors - Prior probabilities of the classes. If specified the priors are not adjusted according to the data.\n",
        "2. var_smoothing - Portion of the largest variance of all features that is added to variances for calculation stability."
      ]
    },
    {
      "cell_type": "code",
      "metadata": {
        "id": "aDCmK9lMH_Qp",
        "colab_type": "code",
        "colab": {}
      },
      "source": [
        "y_pred2 = classifier2.predict(X_test)\n",
        "y_prob2 = classifier2.predict_proba(X_test)"
      ],
      "execution_count": 0,
      "outputs": []
    },
    {
      "cell_type": "code",
      "metadata": {
        "id": "fRKtcQ9pH_Qr",
        "colab_type": "code",
        "outputId": "c27c4a5c-c935-41a7-fe87-425d17d9faf0",
        "colab": {}
      },
      "source": [
        "print('test-set confusion matrix:\\n', confusion_matrix(y_test,y_pred2)) \n",
        "print(\"recall score: \", recall_score(y_test,y_pred2))\n",
        "print(\"precision score: \", precision_score(y_test,y_pred2))\n",
        "print(\"f1 score: \", f1_score(y_test,y_pred2))\n",
        "print(\"accuracy score: \", accuracy_score(y_test,y_pred2))"
      ],
      "execution_count": 0,
      "outputs": [
        {
          "output_type": "stream",
          "text": [
            "('test-set confusion matrix:\\n', array([[ 2756, 19722],\n",
            "       [  131, 13208]], dtype=int64))\n",
            "('recall score: ', 0.9901791738511133)\n",
            "('precision score: ', 0.4010932280595202)\n",
            "('f1 score: ', 0.5709222157383994)\n",
            "('accuracy score: ', 0.4457101376441355)\n"
          ],
          "name": "stdout"
        }
      ]
    },
    {
      "cell_type": "markdown",
      "metadata": {
        "id": "w4QIIKNiH_Qs",
        "colab_type": "text"
      },
      "source": [
        "## Implementing ensemble of Gaussian and Bernoulli NB\n",
        "1. Gaussian NB is trained on continuous feature \n",
        "2. Bernoulli NB is trained on categorical features \n",
        "3. The product of probability of both models gives final probability "
      ]
    },
    {
      "cell_type": "code",
      "metadata": {
        "id": "3toz0UWQH_Qt",
        "colab_type": "code",
        "outputId": "5a87261f-5a62-4c89-8c10-87ca65bcc6dd",
        "colab": {}
      },
      "source": [
        "backup_train[:5]"
      ],
      "execution_count": 0,
      "outputs": [
        {
          "output_type": "execute_result",
          "data": {
            "text/html": [
              "<div>\n",
              "<style scoped>\n",
              "    .dataframe tbody tr th:only-of-type {\n",
              "        vertical-align: middle;\n",
              "    }\n",
              "\n",
              "    .dataframe tbody tr th {\n",
              "        vertical-align: top;\n",
              "    }\n",
              "\n",
              "    .dataframe thead th {\n",
              "        text-align: right;\n",
              "    }\n",
              "</style>\n",
              "<table border=\"1\" class=\"dataframe\">\n",
              "  <thead>\n",
              "    <tr style=\"text-align: right;\">\n",
              "      <th></th>\n",
              "      <th>hotel</th>\n",
              "      <th>is_canceled</th>\n",
              "      <th>lead_time</th>\n",
              "      <th>arrival_date_year</th>\n",
              "      <th>arrival_date_month</th>\n",
              "      <th>arrival_date_week_number</th>\n",
              "      <th>arrival_date_day_of_month</th>\n",
              "      <th>meal</th>\n",
              "      <th>market_segment</th>\n",
              "      <th>distribution_channel</th>\n",
              "      <th>...</th>\n",
              "      <th>booking_changes</th>\n",
              "      <th>deposit_type</th>\n",
              "      <th>days_in_waiting_list</th>\n",
              "      <th>customer_type</th>\n",
              "      <th>adr</th>\n",
              "      <th>required_car_parking_spaces</th>\n",
              "      <th>total_of_special_requests</th>\n",
              "      <th>reservation_status</th>\n",
              "      <th>total_customers</th>\n",
              "      <th>total_days</th>\n",
              "    </tr>\n",
              "  </thead>\n",
              "  <tbody>\n",
              "    <tr>\n",
              "      <th>9710</th>\n",
              "      <td>Resort Hotel</td>\n",
              "      <td>1</td>\n",
              "      <td>122</td>\n",
              "      <td>2016</td>\n",
              "      <td>December</td>\n",
              "      <td>53</td>\n",
              "      <td>27</td>\n",
              "      <td>BB</td>\n",
              "      <td>Online TA</td>\n",
              "      <td>TA/TO</td>\n",
              "      <td>...</td>\n",
              "      <td>3</td>\n",
              "      <td>No Deposit</td>\n",
              "      <td>0</td>\n",
              "      <td>Transient</td>\n",
              "      <td>74.75</td>\n",
              "      <td>0</td>\n",
              "      <td>2</td>\n",
              "      <td>Canceled</td>\n",
              "      <td>2.0</td>\n",
              "      <td>4</td>\n",
              "    </tr>\n",
              "    <tr>\n",
              "      <th>40307</th>\n",
              "      <td>City Hotel</td>\n",
              "      <td>1</td>\n",
              "      <td>20</td>\n",
              "      <td>2015</td>\n",
              "      <td>July</td>\n",
              "      <td>30</td>\n",
              "      <td>22</td>\n",
              "      <td>BB</td>\n",
              "      <td>Groups</td>\n",
              "      <td>TA/TO</td>\n",
              "      <td>...</td>\n",
              "      <td>0</td>\n",
              "      <td>No Deposit</td>\n",
              "      <td>0</td>\n",
              "      <td>Transient-Party</td>\n",
              "      <td>62.00</td>\n",
              "      <td>0</td>\n",
              "      <td>0</td>\n",
              "      <td>Canceled</td>\n",
              "      <td>2.0</td>\n",
              "      <td>2</td>\n",
              "    </tr>\n",
              "    <tr>\n",
              "      <th>110051</th>\n",
              "      <td>City Hotel</td>\n",
              "      <td>0</td>\n",
              "      <td>87</td>\n",
              "      <td>2017</td>\n",
              "      <td>April</td>\n",
              "      <td>16</td>\n",
              "      <td>16</td>\n",
              "      <td>BB</td>\n",
              "      <td>Online TA</td>\n",
              "      <td>TA/TO</td>\n",
              "      <td>...</td>\n",
              "      <td>0</td>\n",
              "      <td>No Deposit</td>\n",
              "      <td>0</td>\n",
              "      <td>Transient</td>\n",
              "      <td>171.00</td>\n",
              "      <td>0</td>\n",
              "      <td>0</td>\n",
              "      <td>Check-Out</td>\n",
              "      <td>3.0</td>\n",
              "      <td>5</td>\n",
              "    </tr>\n",
              "    <tr>\n",
              "      <th>22999</th>\n",
              "      <td>Resort Hotel</td>\n",
              "      <td>0</td>\n",
              "      <td>0</td>\n",
              "      <td>2017</td>\n",
              "      <td>February</td>\n",
              "      <td>5</td>\n",
              "      <td>2</td>\n",
              "      <td>BB</td>\n",
              "      <td>Online TA</td>\n",
              "      <td>TA/TO</td>\n",
              "      <td>...</td>\n",
              "      <td>0</td>\n",
              "      <td>No Deposit</td>\n",
              "      <td>0</td>\n",
              "      <td>Transient</td>\n",
              "      <td>43.00</td>\n",
              "      <td>0</td>\n",
              "      <td>1</td>\n",
              "      <td>Check-Out</td>\n",
              "      <td>1.0</td>\n",
              "      <td>1</td>\n",
              "    </tr>\n",
              "    <tr>\n",
              "      <th>8344</th>\n",
              "      <td>Resort Hotel</td>\n",
              "      <td>1</td>\n",
              "      <td>42</td>\n",
              "      <td>2016</td>\n",
              "      <td>September</td>\n",
              "      <td>39</td>\n",
              "      <td>23</td>\n",
              "      <td>BB</td>\n",
              "      <td>Online TA</td>\n",
              "      <td>TA/TO</td>\n",
              "      <td>...</td>\n",
              "      <td>0</td>\n",
              "      <td>No Deposit</td>\n",
              "      <td>0</td>\n",
              "      <td>Transient</td>\n",
              "      <td>109.00</td>\n",
              "      <td>0</td>\n",
              "      <td>1</td>\n",
              "      <td>Canceled</td>\n",
              "      <td>2.0</td>\n",
              "      <td>1</td>\n",
              "    </tr>\n",
              "  </tbody>\n",
              "</table>\n",
              "<p>5 rows × 23 columns</p>\n",
              "</div>"
            ],
            "text/plain": [
              "               hotel  is_canceled  lead_time  arrival_date_year  \\\n",
              "9710    Resort Hotel            1        122               2016   \n",
              "40307     City Hotel            1         20               2015   \n",
              "110051    City Hotel            0         87               2017   \n",
              "22999   Resort Hotel            0          0               2017   \n",
              "8344    Resort Hotel            1         42               2016   \n",
              "\n",
              "       arrival_date_month  arrival_date_week_number  \\\n",
              "9710             December                        53   \n",
              "40307                July                        30   \n",
              "110051              April                        16   \n",
              "22999            February                         5   \n",
              "8344            September                        39   \n",
              "\n",
              "        arrival_date_day_of_month meal market_segment distribution_channel  \\\n",
              "9710                           27   BB      Online TA                TA/TO   \n",
              "40307                          22   BB         Groups                TA/TO   \n",
              "110051                         16   BB      Online TA                TA/TO   \n",
              "22999                           2   BB      Online TA                TA/TO   \n",
              "8344                           23   BB      Online TA                TA/TO   \n",
              "\n",
              "        ...  booking_changes deposit_type days_in_waiting_list  \\\n",
              "9710    ...                3   No Deposit                    0   \n",
              "40307   ...                0   No Deposit                    0   \n",
              "110051  ...                0   No Deposit                    0   \n",
              "22999   ...                0   No Deposit                    0   \n",
              "8344    ...                0   No Deposit                    0   \n",
              "\n",
              "          customer_type     adr  required_car_parking_spaces  \\\n",
              "9710          Transient   74.75                            0   \n",
              "40307   Transient-Party   62.00                            0   \n",
              "110051        Transient  171.00                            0   \n",
              "22999         Transient   43.00                            0   \n",
              "8344          Transient  109.00                            0   \n",
              "\n",
              "       total_of_special_requests  reservation_status  total_customers  \\\n",
              "9710                           2            Canceled              2.0   \n",
              "40307                          0            Canceled              2.0   \n",
              "110051                         0           Check-Out              3.0   \n",
              "22999                          1           Check-Out              1.0   \n",
              "8344                           1            Canceled              2.0   \n",
              "\n",
              "        total_days  \n",
              "9710             4  \n",
              "40307            2  \n",
              "110051           5  \n",
              "22999            1  \n",
              "8344             1  \n",
              "\n",
              "[5 rows x 23 columns]"
            ]
          },
          "metadata": {
            "tags": []
          },
          "execution_count": 87
        }
      ]
    },
    {
      "cell_type": "code",
      "metadata": {
        "id": "trskg12cH_Qv",
        "colab_type": "code",
        "colab": {}
      },
      "source": [
        "y_train = backup_train[\"is_canceled\"]\n",
        "X_train = backup_train.drop([\"is_canceled\"], axis=1)\n",
        "y_test = backup_test[\"is_canceled\"]\n",
        "X_test = backup_test.drop([\"is_canceled\"], axis=1)"
      ],
      "execution_count": 0,
      "outputs": []
    },
    {
      "cell_type": "code",
      "metadata": {
        "id": "mgktJ-GoH_Q6",
        "colab_type": "code",
        "colab": {}
      },
      "source": [
        "# Basic pre-processing\n",
        "X_train['total_customers'][X_train['total_customers'] >= 4] = 4\n",
        "X_train['total_customers'][X_train['total_customers'] <= 0] = 1\n",
        "X_test['total_customers'][X_test['total_customers'] >= 4] = 4\n",
        "X_test['total_customers'][X_test['total_customers'] <= 1] = 1\n",
        "\n",
        "\n",
        "X_train['required_car_parking_spaces'][X_train['required_car_parking_spaces'] >= 1] = 1\n",
        "X_test['required_car_parking_spaces'][X_test['required_car_parking_spaces'] >= 1] = 1\n",
        "\n",
        "\n",
        "\n",
        "X_train['total_of_special_requests'][X_train['total_of_special_requests'] >= 3] = 3\n",
        "X_test['total_of_special_requests'][X_test['total_of_special_requests'] >= 3] = 3"
      ],
      "execution_count": 0,
      "outputs": []
    },
    {
      "cell_type": "code",
      "metadata": {
        "id": "rdZWAOL2H_Q7",
        "colab_type": "code",
        "colab": {}
      },
      "source": [
        "# one hot encoding the categorical features\n",
        "cat_col=['hotel','arrival_date_year','arrival_date_month','meal','market_segment',\\\n",
        "          'distribution_channel','reserved_room_type','deposit_type','customer_type','is_repeated_guest',\\\n",
        "        'total_customers','required_car_parking_spaces','total_of_special_requests']\n",
        "d_cat_train=pd.get_dummies(data=X_train[cat_col],columns=cat_col)\n",
        "d_cat_test=pd.get_dummies(data=X_test[cat_col],columns=cat_col)"
      ],
      "execution_count": 0,
      "outputs": []
    },
    {
      "cell_type": "code",
      "metadata": {
        "id": "Mwrh7r04H_Q9",
        "colab_type": "code",
        "outputId": "a24732fb-88a5-4d6c-92a3-b43b2a012393",
        "colab": {}
      },
      "source": [
        "d_cat_test.shape"
      ],
      "execution_count": 0,
      "outputs": [
        {
          "output_type": "execute_result",
          "data": {
            "text/plain": [
              "(35817, 63)"
            ]
          },
          "metadata": {
            "tags": []
          },
          "execution_count": 98
        }
      ]
    },
    {
      "cell_type": "code",
      "metadata": {
        "id": "DYko8oYcH_Q_",
        "colab_type": "code",
        "colab": {}
      },
      "source": [
        "d_cat_train,d_cat_test =d_cat_train.align(d_cat_test, join='left', axis=1)\n",
        "d_cat_test=d_cat_test.fillna(0)"
      ],
      "execution_count": 0,
      "outputs": []
    },
    {
      "cell_type": "code",
      "metadata": {
        "id": "46nscHkeH_RB",
        "colab_type": "code",
        "outputId": "bb91220b-a99d-4189-b666-71ecfa26becf",
        "colab": {}
      },
      "source": [
        "clf_bern = BernoulliNB()\n",
        "clf_bern.fit(d_cat_train, y_train)"
      ],
      "execution_count": 0,
      "outputs": [
        {
          "output_type": "execute_result",
          "data": {
            "text/plain": [
              "BernoulliNB(alpha=1.0, binarize=0.0, class_prior=None, fit_prior=True)"
            ]
          },
          "metadata": {
            "tags": []
          },
          "execution_count": 100
        }
      ]
    },
    {
      "cell_type": "code",
      "metadata": {
        "id": "Y5m_bvNiH_RT",
        "colab_type": "code",
        "colab": {}
      },
      "source": [
        "d_cont_train=X_train[['lead_time','arrival_date_week_number','days_in_waiting_list','adr','total_days']]\n",
        "d_cont_train = d_cont_train.fillna(0)\n",
        "d_cont_test = X_test[['lead_time','arrival_date_week_number','days_in_waiting_list','adr','total_days']]\n",
        "d_cont_test=d_cont_test.fillna(0)"
      ],
      "execution_count": 0,
      "outputs": []
    },
    {
      "cell_type": "code",
      "metadata": {
        "id": "OUfgFMIxH_RV",
        "colab_type": "code",
        "outputId": "e8e9ed20-7156-4e38-b1d2-cd864e6592e1",
        "colab": {}
      },
      "source": [
        "clf_gauss = GaussianNB()\n",
        "clf_gauss.fit(d_cont_train, y_train)"
      ],
      "execution_count": 0,
      "outputs": [
        {
          "output_type": "execute_result",
          "data": {
            "text/plain": [
              "GaussianNB(priors=None, var_smoothing=1e-09)"
            ]
          },
          "metadata": {
            "tags": []
          },
          "execution_count": 102
        }
      ]
    },
    {
      "cell_type": "code",
      "metadata": {
        "id": "qynbpFM0H_RX",
        "colab_type": "code",
        "colab": {}
      },
      "source": [
        "y_pred_bern=clf_bern.predict(d_cat_test)\n",
        "y_pred_gauss=clf_gauss.predict(d_cont_test)"
      ],
      "execution_count": 0,
      "outputs": []
    },
    {
      "cell_type": "code",
      "metadata": {
        "id": "wr8l6yBWH_Ra",
        "colab_type": "code",
        "colab": {}
      },
      "source": [
        "y_prob_bern=clf_bern.predict_proba(d_cat_test)\n",
        "y_prob_bern_df = pd.DataFrame(data=y_prob_bern,columns=['prob0_b','prob1_b'])\n",
        "y_prob_gauss=clf_gauss.predict_proba(d_cont_test)\n",
        "y_prob_gauss_df = pd.DataFrame(data=y_prob_gauss,columns=['prob0_g','prob1_g'])"
      ],
      "execution_count": 0,
      "outputs": []
    },
    {
      "cell_type": "code",
      "metadata": {
        "id": "6b8zRQh_H_Rc",
        "colab_type": "code",
        "colab": {}
      },
      "source": [
        "y_prob=y_prob_bern_df.join(y_prob_gauss_df)"
      ],
      "execution_count": 0,
      "outputs": []
    },
    {
      "cell_type": "code",
      "metadata": {
        "id": "HnqzA5ciH_Rd",
        "colab_type": "code",
        "colab": {}
      },
      "source": [
        "y_prob['prob0']=y_prob['prob0_b']*y_prob['prob0_g']\n",
        "y_prob['prob1']=y_prob['prob1_b']*y_prob['prob1_g']"
      ],
      "execution_count": 0,
      "outputs": []
    },
    {
      "cell_type": "code",
      "metadata": {
        "id": "I27tVFxBH_Rf",
        "colab_type": "code",
        "outputId": "081094e2-8ccc-4f81-9d92-c1d5dea32715",
        "colab": {}
      },
      "source": [
        "y_prob[:10]"
      ],
      "execution_count": 0,
      "outputs": [
        {
          "output_type": "execute_result",
          "data": {
            "text/html": [
              "<div>\n",
              "<style scoped>\n",
              "    .dataframe tbody tr th:only-of-type {\n",
              "        vertical-align: middle;\n",
              "    }\n",
              "\n",
              "    .dataframe tbody tr th {\n",
              "        vertical-align: top;\n",
              "    }\n",
              "\n",
              "    .dataframe thead th {\n",
              "        text-align: right;\n",
              "    }\n",
              "</style>\n",
              "<table border=\"1\" class=\"dataframe\">\n",
              "  <thead>\n",
              "    <tr style=\"text-align: right;\">\n",
              "      <th></th>\n",
              "      <th>prob0_b</th>\n",
              "      <th>prob1_b</th>\n",
              "      <th>prob0_g</th>\n",
              "      <th>prob1_g</th>\n",
              "      <th>prob0</th>\n",
              "      <th>prob1</th>\n",
              "    </tr>\n",
              "  </thead>\n",
              "  <tbody>\n",
              "    <tr>\n",
              "      <th>0</th>\n",
              "      <td>0.986447</td>\n",
              "      <td>0.013553</td>\n",
              "      <td>0.633517</td>\n",
              "      <td>0.366483</td>\n",
              "      <td>0.624931</td>\n",
              "      <td>0.004967</td>\n",
              "    </tr>\n",
              "    <tr>\n",
              "      <th>1</th>\n",
              "      <td>0.254312</td>\n",
              "      <td>0.745688</td>\n",
              "      <td>0.804970</td>\n",
              "      <td>0.195030</td>\n",
              "      <td>0.204713</td>\n",
              "      <td>0.145432</td>\n",
              "    </tr>\n",
              "    <tr>\n",
              "      <th>2</th>\n",
              "      <td>0.965602</td>\n",
              "      <td>0.034398</td>\n",
              "      <td>0.856056</td>\n",
              "      <td>0.143944</td>\n",
              "      <td>0.826610</td>\n",
              "      <td>0.004951</td>\n",
              "    </tr>\n",
              "    <tr>\n",
              "      <th>3</th>\n",
              "      <td>0.801283</td>\n",
              "      <td>0.198717</td>\n",
              "      <td>0.853783</td>\n",
              "      <td>0.146217</td>\n",
              "      <td>0.684122</td>\n",
              "      <td>0.029056</td>\n",
              "    </tr>\n",
              "    <tr>\n",
              "      <th>4</th>\n",
              "      <td>0.206895</td>\n",
              "      <td>0.793105</td>\n",
              "      <td>0.813729</td>\n",
              "      <td>0.186271</td>\n",
              "      <td>0.168356</td>\n",
              "      <td>0.147733</td>\n",
              "    </tr>\n",
              "    <tr>\n",
              "      <th>5</th>\n",
              "      <td>0.316762</td>\n",
              "      <td>0.683238</td>\n",
              "      <td>0.679028</td>\n",
              "      <td>0.320972</td>\n",
              "      <td>0.215090</td>\n",
              "      <td>0.219301</td>\n",
              "    </tr>\n",
              "    <tr>\n",
              "      <th>6</th>\n",
              "      <td>0.801283</td>\n",
              "      <td>0.198717</td>\n",
              "      <td>0.853495</td>\n",
              "      <td>0.146505</td>\n",
              "      <td>0.683892</td>\n",
              "      <td>0.029113</td>\n",
              "    </tr>\n",
              "    <tr>\n",
              "      <th>7</th>\n",
              "      <td>0.618501</td>\n",
              "      <td>0.381499</td>\n",
              "      <td>0.795048</td>\n",
              "      <td>0.204952</td>\n",
              "      <td>0.491738</td>\n",
              "      <td>0.078189</td>\n",
              "    </tr>\n",
              "    <tr>\n",
              "      <th>8</th>\n",
              "      <td>0.781052</td>\n",
              "      <td>0.218948</td>\n",
              "      <td>0.827318</td>\n",
              "      <td>0.172682</td>\n",
              "      <td>0.646179</td>\n",
              "      <td>0.037808</td>\n",
              "    </tr>\n",
              "    <tr>\n",
              "      <th>9</th>\n",
              "      <td>0.266880</td>\n",
              "      <td>0.733120</td>\n",
              "      <td>0.578160</td>\n",
              "      <td>0.421840</td>\n",
              "      <td>0.154299</td>\n",
              "      <td>0.309260</td>\n",
              "    </tr>\n",
              "  </tbody>\n",
              "</table>\n",
              "</div>"
            ],
            "text/plain": [
              "    prob0_b   prob1_b   prob0_g   prob1_g     prob0     prob1\n",
              "0  0.986447  0.013553  0.633517  0.366483  0.624931  0.004967\n",
              "1  0.254312  0.745688  0.804970  0.195030  0.204713  0.145432\n",
              "2  0.965602  0.034398  0.856056  0.143944  0.826610  0.004951\n",
              "3  0.801283  0.198717  0.853783  0.146217  0.684122  0.029056\n",
              "4  0.206895  0.793105  0.813729  0.186271  0.168356  0.147733\n",
              "5  0.316762  0.683238  0.679028  0.320972  0.215090  0.219301\n",
              "6  0.801283  0.198717  0.853495  0.146505  0.683892  0.029113\n",
              "7  0.618501  0.381499  0.795048  0.204952  0.491738  0.078189\n",
              "8  0.781052  0.218948  0.827318  0.172682  0.646179  0.037808\n",
              "9  0.266880  0.733120  0.578160  0.421840  0.154299  0.309260"
            ]
          },
          "metadata": {
            "tags": []
          },
          "execution_count": 107
        }
      ]
    },
    {
      "cell_type": "code",
      "metadata": {
        "id": "4GUAev99H_Ri",
        "colab_type": "code",
        "colab": {}
      },
      "source": [
        "y_prob['prediction']=np.where(y_prob['prob1'] > y_prob['prob0'], 1,0)"
      ],
      "execution_count": 0,
      "outputs": []
    },
    {
      "cell_type": "code",
      "metadata": {
        "id": "UDTT_HOVH_Rj",
        "colab_type": "code",
        "outputId": "4a41223e-f73e-47aa-a027-160c9380cc47",
        "colab": {}
      },
      "source": [
        "print(\"Bernoulli f1 score: \", f1_score(y_test,y_pred_bern))\n",
        "print(\"Gaussian f1 score: \", f1_score(y_test,y_pred_gauss))\n",
        "print(\"Ensemble f1 score: \", f1_score(y_test,y_prob['prediction']))"
      ],
      "execution_count": 0,
      "outputs": [
        {
          "output_type": "stream",
          "text": [
            "('Bernoulli f1 score: ', 0.6099612990072354)\n",
            "('Gaussian f1 score: ', 0.36027222458528285)\n",
            "('Ensemble f1 score: ', 0.5549425972864173)\n"
          ],
          "name": "stdout"
        }
      ]
    },
    {
      "cell_type": "markdown",
      "metadata": {
        "id": "Zip4sOzZH_Rl",
        "colab_type": "text"
      },
      "source": [
        "## Comparing Gaussian NB and Bernuolli NB"
      ]
    },
    {
      "cell_type": "code",
      "metadata": {
        "id": "AjMzQzd7H_Rl",
        "colab_type": "code",
        "colab": {}
      },
      "source": [
        "false_positive_rate4, true_positive_rate4, threshold4 = roc_curve(y_test, y_prob_bern3[:,1])\n",
        "roc_auc_bern = auc(false_positive_rate4, true_positive_rate4)"
      ],
      "execution_count": 0,
      "outputs": []
    },
    {
      "cell_type": "code",
      "metadata": {
        "id": "jHTl7ITpH_Rq",
        "colab_type": "code",
        "colab": {}
      },
      "source": [
        "false_positive_rate, true_positive_rate, threshold = roc_curve(y_test, y_prob2[:,1])\n",
        "roc_auc_gauss = auc(false_positive_rate, true_positive_rate)"
      ],
      "execution_count": 0,
      "outputs": []
    },
    {
      "cell_type": "code",
      "metadata": {
        "id": "rZvjdiwVH_Rs",
        "colab_type": "code",
        "outputId": "67ce7786-2c9d-4465-8a0e-19d72445b297",
        "colab": {}
      },
      "source": [
        "plt.figure(figsize = (10,10))\n",
        "plt.title('Receiver Operating Characteristic')\n",
        "plt.plot(false_positive_rate, true_positive_rate, color = 'red', label = 'Gauss AUC = %0.2f' % roc_auc_gauss)\n",
        "plt.plot(false_positive_rate4, true_positive_rate4, color = 'green', label = 'Bern AUC = %0.2f' % roc_auc_bern)\n",
        "plt.legend(loc = 'lower right')\n",
        "plt.plot([0, 1], [0, 1], linestyle = '--')\n",
        "plt.axis('tight')\n",
        "plt.ylabel('True Positive Rate')\n",
        "plt.xlabel('False Positive Rate')"
      ],
      "execution_count": 0,
      "outputs": [
        {
          "output_type": "execute_result",
          "data": {
            "text/plain": [
              "Text(0.5,0,'False Positive Rate')"
            ]
          },
          "metadata": {
            "tags": []
          },
          "execution_count": 112
        },
        {
          "output_type": "display_data",
          "data": {
            "image/png": "[encoded data removed]",
            "text/plain": [
              "<Figure size 720x720 with 1 Axes>"
            ]
          },
          "metadata": {
            "tags": []
          }
        }
      ]
    },
    {
      "cell_type": "code",
      "metadata": {
        "id": "sSjnUh_dH_Rv",
        "colab_type": "code",
        "colab": {}
      },
      "source": [
        ""
      ],
      "execution_count": 0,
      "outputs": []
    }
  ]
}
